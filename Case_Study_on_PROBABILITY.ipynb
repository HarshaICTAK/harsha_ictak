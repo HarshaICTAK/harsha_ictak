{
 "cells": [
  {
   "cell_type": "markdown",
   "id": "60fff954",
   "metadata": {},
   "source": [
    "# CASE STUDY ON PROBABILITY"
   ]
  },
  {
   "cell_type": "code",
   "execution_count": 1,
   "id": "6aa90d08",
   "metadata": {},
   "outputs": [],
   "source": [
    "import numpy as np\n",
    "import pandas as pd\n",
    "import seaborn as sns\n",
    "import matplotlib.pyplot as plt\n",
    "\n",
    "import warnings\n",
    "warnings.filterwarnings('ignore')"
   ]
  },
  {
   "cell_type": "markdown",
   "id": "f1d18d80",
   "metadata": {},
   "source": [
    "**Reading data into the environment**"
   ]
  },
  {
   "cell_type": "code",
   "execution_count": 2,
   "id": "d269ec5b",
   "metadata": {},
   "outputs": [
    {
     "data": {
      "text/html": [
       "<div>\n",
       "<style scoped>\n",
       "    .dataframe tbody tr th:only-of-type {\n",
       "        vertical-align: middle;\n",
       "    }\n",
       "\n",
       "    .dataframe tbody tr th {\n",
       "        vertical-align: top;\n",
       "    }\n",
       "\n",
       "    .dataframe thead th {\n",
       "        text-align: right;\n",
       "    }\n",
       "</style>\n",
       "<table border=\"1\" class=\"dataframe\">\n",
       "  <thead>\n",
       "    <tr style=\"text-align: right;\">\n",
       "      <th></th>\n",
       "      <th>class</th>\n",
       "      <th>cap-shape</th>\n",
       "      <th>cap-surface</th>\n",
       "      <th>cap-color</th>\n",
       "      <th>bruises</th>\n",
       "      <th>odor</th>\n",
       "      <th>gill-attachment</th>\n",
       "      <th>gill-spacing</th>\n",
       "      <th>gill-size</th>\n",
       "      <th>gill-color</th>\n",
       "      <th>...</th>\n",
       "      <th>stalk-surface-below-ring</th>\n",
       "      <th>stalk-color-above-ring</th>\n",
       "      <th>stalk-color-below-ring</th>\n",
       "      <th>veil-type</th>\n",
       "      <th>veil-color</th>\n",
       "      <th>ring-number</th>\n",
       "      <th>ring-type</th>\n",
       "      <th>spore-print-color</th>\n",
       "      <th>population</th>\n",
       "      <th>habitat</th>\n",
       "    </tr>\n",
       "  </thead>\n",
       "  <tbody>\n",
       "    <tr>\n",
       "      <th>0</th>\n",
       "      <td>p</td>\n",
       "      <td>x</td>\n",
       "      <td>s</td>\n",
       "      <td>n</td>\n",
       "      <td>t</td>\n",
       "      <td>p</td>\n",
       "      <td>f</td>\n",
       "      <td>c</td>\n",
       "      <td>n</td>\n",
       "      <td>k</td>\n",
       "      <td>...</td>\n",
       "      <td>s</td>\n",
       "      <td>w</td>\n",
       "      <td>w</td>\n",
       "      <td>p</td>\n",
       "      <td>w</td>\n",
       "      <td>o</td>\n",
       "      <td>p</td>\n",
       "      <td>k</td>\n",
       "      <td>s</td>\n",
       "      <td>u</td>\n",
       "    </tr>\n",
       "    <tr>\n",
       "      <th>1</th>\n",
       "      <td>e</td>\n",
       "      <td>x</td>\n",
       "      <td>s</td>\n",
       "      <td>y</td>\n",
       "      <td>t</td>\n",
       "      <td>a</td>\n",
       "      <td>f</td>\n",
       "      <td>c</td>\n",
       "      <td>b</td>\n",
       "      <td>k</td>\n",
       "      <td>...</td>\n",
       "      <td>s</td>\n",
       "      <td>w</td>\n",
       "      <td>w</td>\n",
       "      <td>p</td>\n",
       "      <td>w</td>\n",
       "      <td>o</td>\n",
       "      <td>p</td>\n",
       "      <td>n</td>\n",
       "      <td>n</td>\n",
       "      <td>g</td>\n",
       "    </tr>\n",
       "    <tr>\n",
       "      <th>2</th>\n",
       "      <td>e</td>\n",
       "      <td>b</td>\n",
       "      <td>s</td>\n",
       "      <td>w</td>\n",
       "      <td>t</td>\n",
       "      <td>l</td>\n",
       "      <td>f</td>\n",
       "      <td>c</td>\n",
       "      <td>b</td>\n",
       "      <td>n</td>\n",
       "      <td>...</td>\n",
       "      <td>s</td>\n",
       "      <td>w</td>\n",
       "      <td>w</td>\n",
       "      <td>p</td>\n",
       "      <td>w</td>\n",
       "      <td>o</td>\n",
       "      <td>p</td>\n",
       "      <td>n</td>\n",
       "      <td>n</td>\n",
       "      <td>m</td>\n",
       "    </tr>\n",
       "    <tr>\n",
       "      <th>3</th>\n",
       "      <td>p</td>\n",
       "      <td>x</td>\n",
       "      <td>y</td>\n",
       "      <td>w</td>\n",
       "      <td>t</td>\n",
       "      <td>p</td>\n",
       "      <td>f</td>\n",
       "      <td>c</td>\n",
       "      <td>n</td>\n",
       "      <td>n</td>\n",
       "      <td>...</td>\n",
       "      <td>s</td>\n",
       "      <td>w</td>\n",
       "      <td>w</td>\n",
       "      <td>p</td>\n",
       "      <td>w</td>\n",
       "      <td>o</td>\n",
       "      <td>p</td>\n",
       "      <td>k</td>\n",
       "      <td>s</td>\n",
       "      <td>u</td>\n",
       "    </tr>\n",
       "    <tr>\n",
       "      <th>4</th>\n",
       "      <td>e</td>\n",
       "      <td>x</td>\n",
       "      <td>s</td>\n",
       "      <td>g</td>\n",
       "      <td>f</td>\n",
       "      <td>n</td>\n",
       "      <td>f</td>\n",
       "      <td>w</td>\n",
       "      <td>b</td>\n",
       "      <td>k</td>\n",
       "      <td>...</td>\n",
       "      <td>s</td>\n",
       "      <td>w</td>\n",
       "      <td>w</td>\n",
       "      <td>p</td>\n",
       "      <td>w</td>\n",
       "      <td>o</td>\n",
       "      <td>e</td>\n",
       "      <td>n</td>\n",
       "      <td>a</td>\n",
       "      <td>g</td>\n",
       "    </tr>\n",
       "  </tbody>\n",
       "</table>\n",
       "<p>5 rows × 23 columns</p>\n",
       "</div>"
      ],
      "text/plain": [
       "  class cap-shape cap-surface cap-color bruises odor gill-attachment  \\\n",
       "0     p         x           s         n       t    p               f   \n",
       "1     e         x           s         y       t    a               f   \n",
       "2     e         b           s         w       t    l               f   \n",
       "3     p         x           y         w       t    p               f   \n",
       "4     e         x           s         g       f    n               f   \n",
       "\n",
       "  gill-spacing gill-size gill-color  ... stalk-surface-below-ring  \\\n",
       "0            c         n          k  ...                        s   \n",
       "1            c         b          k  ...                        s   \n",
       "2            c         b          n  ...                        s   \n",
       "3            c         n          n  ...                        s   \n",
       "4            w         b          k  ...                        s   \n",
       "\n",
       "  stalk-color-above-ring stalk-color-below-ring veil-type veil-color  \\\n",
       "0                      w                      w         p          w   \n",
       "1                      w                      w         p          w   \n",
       "2                      w                      w         p          w   \n",
       "3                      w                      w         p          w   \n",
       "4                      w                      w         p          w   \n",
       "\n",
       "  ring-number ring-type spore-print-color population habitat  \n",
       "0           o         p                 k          s       u  \n",
       "1           o         p                 n          n       g  \n",
       "2           o         p                 n          n       m  \n",
       "3           o         p                 k          s       u  \n",
       "4           o         e                 n          a       g  \n",
       "\n",
       "[5 rows x 23 columns]"
      ]
     },
     "execution_count": 2,
     "metadata": {},
     "output_type": "execute_result"
    }
   ],
   "source": [
    "data = pd.read_csv('mushrooms.csv')\n",
    "data.head()"
   ]
  },
  {
   "cell_type": "markdown",
   "id": "84a07888",
   "metadata": {},
   "source": [
    "**Summary of dataset**"
   ]
  },
  {
   "cell_type": "code",
   "execution_count": 3,
   "id": "c9430554",
   "metadata": {},
   "outputs": [
    {
     "name": "stdout",
     "output_type": "stream",
     "text": [
      "<class 'pandas.core.frame.DataFrame'>\n",
      "RangeIndex: 8124 entries, 0 to 8123\n",
      "Data columns (total 23 columns):\n",
      " #   Column                    Non-Null Count  Dtype \n",
      "---  ------                    --------------  ----- \n",
      " 0   class                     8124 non-null   object\n",
      " 1   cap-shape                 8124 non-null   object\n",
      " 2   cap-surface               8124 non-null   object\n",
      " 3   cap-color                 8124 non-null   object\n",
      " 4   bruises                   8124 non-null   object\n",
      " 5   odor                      8124 non-null   object\n",
      " 6   gill-attachment           8124 non-null   object\n",
      " 7   gill-spacing              8124 non-null   object\n",
      " 8   gill-size                 8124 non-null   object\n",
      " 9   gill-color                8124 non-null   object\n",
      " 10  stalk-shape               8124 non-null   object\n",
      " 11  stalk-root                8124 non-null   object\n",
      " 12  stalk-surface-above-ring  8124 non-null   object\n",
      " 13  stalk-surface-below-ring  8124 non-null   object\n",
      " 14  stalk-color-above-ring    8124 non-null   object\n",
      " 15  stalk-color-below-ring    8124 non-null   object\n",
      " 16  veil-type                 8124 non-null   object\n",
      " 17  veil-color                8124 non-null   object\n",
      " 18  ring-number               8124 non-null   object\n",
      " 19  ring-type                 8124 non-null   object\n",
      " 20  spore-print-color         8124 non-null   object\n",
      " 21  population                8124 non-null   object\n",
      " 22  habitat                   8124 non-null   object\n",
      "dtypes: object(23)\n",
      "memory usage: 1.4+ MB\n"
     ]
    }
   ],
   "source": [
    "data.info()"
   ]
  },
  {
   "cell_type": "code",
   "execution_count": 4,
   "id": "3f809017",
   "metadata": {
    "scrolled": true
   },
   "outputs": [
    {
     "data": {
      "text/html": [
       "<div>\n",
       "<style scoped>\n",
       "    .dataframe tbody tr th:only-of-type {\n",
       "        vertical-align: middle;\n",
       "    }\n",
       "\n",
       "    .dataframe tbody tr th {\n",
       "        vertical-align: top;\n",
       "    }\n",
       "\n",
       "    .dataframe thead th {\n",
       "        text-align: right;\n",
       "    }\n",
       "</style>\n",
       "<table border=\"1\" class=\"dataframe\">\n",
       "  <thead>\n",
       "    <tr style=\"text-align: right;\">\n",
       "      <th></th>\n",
       "      <th>class</th>\n",
       "      <th>cap-shape</th>\n",
       "      <th>cap-surface</th>\n",
       "      <th>cap-color</th>\n",
       "      <th>bruises</th>\n",
       "      <th>odor</th>\n",
       "      <th>gill-attachment</th>\n",
       "      <th>gill-spacing</th>\n",
       "      <th>gill-size</th>\n",
       "      <th>gill-color</th>\n",
       "      <th>...</th>\n",
       "      <th>stalk-surface-below-ring</th>\n",
       "      <th>stalk-color-above-ring</th>\n",
       "      <th>stalk-color-below-ring</th>\n",
       "      <th>veil-type</th>\n",
       "      <th>veil-color</th>\n",
       "      <th>ring-number</th>\n",
       "      <th>ring-type</th>\n",
       "      <th>spore-print-color</th>\n",
       "      <th>population</th>\n",
       "      <th>habitat</th>\n",
       "    </tr>\n",
       "  </thead>\n",
       "  <tbody>\n",
       "    <tr>\n",
       "      <th>count</th>\n",
       "      <td>8124</td>\n",
       "      <td>8124</td>\n",
       "      <td>8124</td>\n",
       "      <td>8124</td>\n",
       "      <td>8124</td>\n",
       "      <td>8124</td>\n",
       "      <td>8124</td>\n",
       "      <td>8124</td>\n",
       "      <td>8124</td>\n",
       "      <td>8124</td>\n",
       "      <td>...</td>\n",
       "      <td>8124</td>\n",
       "      <td>8124</td>\n",
       "      <td>8124</td>\n",
       "      <td>8124</td>\n",
       "      <td>8124</td>\n",
       "      <td>8124</td>\n",
       "      <td>8124</td>\n",
       "      <td>8124</td>\n",
       "      <td>8124</td>\n",
       "      <td>8124</td>\n",
       "    </tr>\n",
       "    <tr>\n",
       "      <th>unique</th>\n",
       "      <td>2</td>\n",
       "      <td>6</td>\n",
       "      <td>4</td>\n",
       "      <td>10</td>\n",
       "      <td>2</td>\n",
       "      <td>9</td>\n",
       "      <td>2</td>\n",
       "      <td>2</td>\n",
       "      <td>2</td>\n",
       "      <td>12</td>\n",
       "      <td>...</td>\n",
       "      <td>4</td>\n",
       "      <td>9</td>\n",
       "      <td>9</td>\n",
       "      <td>1</td>\n",
       "      <td>4</td>\n",
       "      <td>3</td>\n",
       "      <td>5</td>\n",
       "      <td>9</td>\n",
       "      <td>6</td>\n",
       "      <td>7</td>\n",
       "    </tr>\n",
       "    <tr>\n",
       "      <th>top</th>\n",
       "      <td>e</td>\n",
       "      <td>x</td>\n",
       "      <td>y</td>\n",
       "      <td>n</td>\n",
       "      <td>f</td>\n",
       "      <td>n</td>\n",
       "      <td>f</td>\n",
       "      <td>c</td>\n",
       "      <td>b</td>\n",
       "      <td>b</td>\n",
       "      <td>...</td>\n",
       "      <td>s</td>\n",
       "      <td>w</td>\n",
       "      <td>w</td>\n",
       "      <td>p</td>\n",
       "      <td>w</td>\n",
       "      <td>o</td>\n",
       "      <td>p</td>\n",
       "      <td>w</td>\n",
       "      <td>v</td>\n",
       "      <td>d</td>\n",
       "    </tr>\n",
       "    <tr>\n",
       "      <th>freq</th>\n",
       "      <td>4208</td>\n",
       "      <td>3656</td>\n",
       "      <td>3244</td>\n",
       "      <td>2284</td>\n",
       "      <td>4748</td>\n",
       "      <td>3528</td>\n",
       "      <td>7914</td>\n",
       "      <td>6812</td>\n",
       "      <td>5612</td>\n",
       "      <td>1728</td>\n",
       "      <td>...</td>\n",
       "      <td>4936</td>\n",
       "      <td>4464</td>\n",
       "      <td>4384</td>\n",
       "      <td>8124</td>\n",
       "      <td>7924</td>\n",
       "      <td>7488</td>\n",
       "      <td>3968</td>\n",
       "      <td>2388</td>\n",
       "      <td>4040</td>\n",
       "      <td>3148</td>\n",
       "    </tr>\n",
       "  </tbody>\n",
       "</table>\n",
       "<p>4 rows × 23 columns</p>\n",
       "</div>"
      ],
      "text/plain": [
       "       class cap-shape cap-surface cap-color bruises  odor gill-attachment  \\\n",
       "count   8124      8124        8124      8124    8124  8124            8124   \n",
       "unique     2         6           4        10       2     9               2   \n",
       "top        e         x           y         n       f     n               f   \n",
       "freq    4208      3656        3244      2284    4748  3528            7914   \n",
       "\n",
       "       gill-spacing gill-size gill-color  ... stalk-surface-below-ring  \\\n",
       "count          8124      8124       8124  ...                     8124   \n",
       "unique            2         2         12  ...                        4   \n",
       "top               c         b          b  ...                        s   \n",
       "freq           6812      5612       1728  ...                     4936   \n",
       "\n",
       "       stalk-color-above-ring stalk-color-below-ring veil-type veil-color  \\\n",
       "count                    8124                   8124      8124       8124   \n",
       "unique                      9                      9         1          4   \n",
       "top                         w                      w         p          w   \n",
       "freq                     4464                   4384      8124       7924   \n",
       "\n",
       "       ring-number ring-type spore-print-color population habitat  \n",
       "count         8124      8124              8124       8124    8124  \n",
       "unique           3         5                 9          6       7  \n",
       "top              o         p                 w          v       d  \n",
       "freq          7488      3968              2388       4040    3148  \n",
       "\n",
       "[4 rows x 23 columns]"
      ]
     },
     "execution_count": 4,
     "metadata": {},
     "output_type": "execute_result"
    }
   ],
   "source": [
    "data.describe()"
   ]
  },
  {
   "cell_type": "markdown",
   "id": "eb93749e",
   "metadata": {},
   "source": [
    "**Checking for missing values**"
   ]
  },
  {
   "cell_type": "code",
   "execution_count": 5,
   "id": "f1c4de05",
   "metadata": {},
   "outputs": [
    {
     "data": {
      "text/plain": [
       "class                       0\n",
       "cap-shape                   0\n",
       "cap-surface                 0\n",
       "cap-color                   0\n",
       "bruises                     0\n",
       "odor                        0\n",
       "gill-attachment             0\n",
       "gill-spacing                0\n",
       "gill-size                   0\n",
       "gill-color                  0\n",
       "stalk-shape                 0\n",
       "stalk-root                  0\n",
       "stalk-surface-above-ring    0\n",
       "stalk-surface-below-ring    0\n",
       "stalk-color-above-ring      0\n",
       "stalk-color-below-ring      0\n",
       "veil-type                   0\n",
       "veil-color                  0\n",
       "ring-number                 0\n",
       "ring-type                   0\n",
       "spore-print-color           0\n",
       "population                  0\n",
       "habitat                     0\n",
       "dtype: int64"
      ]
     },
     "execution_count": 5,
     "metadata": {},
     "output_type": "execute_result"
    }
   ],
   "source": [
    "data.isnull().sum()"
   ]
  },
  {
   "cell_type": "markdown",
   "id": "c1ac7268",
   "metadata": {},
   "source": [
    "There are no missing values in the dataset."
   ]
  },
  {
   "cell_type": "markdown",
   "id": "55187d6c",
   "metadata": {},
   "source": [
    "**Exploratory Data Analysis**"
   ]
  },
  {
   "cell_type": "code",
   "execution_count": 6,
   "id": "54a5426e",
   "metadata": {},
   "outputs": [
    {
     "data": {
      "text/plain": [
       "<AxesSubplot:xlabel='class', ylabel='count'>"
      ]
     },
     "execution_count": 6,
     "metadata": {},
     "output_type": "execute_result"
    },
    {
     "data": {
      "image/png": "[encoded data removed]",
      "text/plain": [
       "<Figure size 432x288 with 1 Axes>"
      ]
     },
     "metadata": {
      "needs_background": "light"
     },
     "output_type": "display_data"
    }
   ],
   "source": [
    "# Countplot of target variable class\n",
    "sns.countplot(data['class'])"
   ]
  },
  {
   "cell_type": "code",
   "execution_count": 7,
   "id": "4bfd4acf",
   "metadata": {},
   "outputs": [
    {
     "data": {
      "text/plain": [
       "e    51.8\n",
       "p    48.2\n",
       "Name: class, dtype: float64"
      ]
     },
     "execution_count": 7,
     "metadata": {},
     "output_type": "execute_result"
    }
   ],
   "source": [
    "(data['class'].value_counts(normalize = True)*100).round(2)"
   ]
  },
  {
   "cell_type": "markdown",
   "id": "bf559098",
   "metadata": {},
   "source": [
    "Out of the 8124 mushrooms studied, 51.8% of mushrooms are edible and 48.2% are poisonous."
   ]
  },
  {
   "cell_type": "code",
   "execution_count": 8,
   "id": "85bc107d",
   "metadata": {},
   "outputs": [
    {
     "data": {
      "text/plain": [
       "<AxesSubplot:xlabel='habitat', ylabel='count'>"
      ]
     },
     "execution_count": 8,
     "metadata": {},
     "output_type": "execute_result"
    },
    {
     "data": {
      "image/png": "[encoded data removed]",
      "text/plain": [
       "<Figure size 432x288 with 1 Axes>"
      ]
     },
     "metadata": {
      "needs_background": "light"
     },
     "output_type": "display_data"
    }
   ],
   "source": [
    "# Countplot of variable habitat\n",
    "sns.countplot(data['habitat'])"
   ]
  },
  {
   "cell_type": "code",
   "execution_count": 9,
   "id": "8fc8420f",
   "metadata": {},
   "outputs": [
    {
     "data": {
      "text/plain": [
       "d    38.75\n",
       "g    26.44\n",
       "p    14.08\n",
       "l    10.24\n",
       "u     4.53\n",
       "m     3.59\n",
       "w     2.36\n",
       "Name: habitat, dtype: float64"
      ]
     },
     "execution_count": 9,
     "metadata": {},
     "output_type": "execute_result"
    }
   ],
   "source": [
    "(data['habitat'].value_counts(normalize = True)*100).round(2)"
   ]
  },
  {
   "cell_type": "markdown",
   "id": "295b81c8",
   "metadata": {},
   "source": [
    "38.75% of mushrooms are found in woods, while 26.4% are found in grasses. 14.08% and 10.24% are found in paths and leaves respectively."
   ]
  },
  {
   "cell_type": "code",
   "execution_count": 10,
   "id": "d2b554c3",
   "metadata": {},
   "outputs": [
    {
     "data": {
      "text/plain": [
       "<AxesSubplot:xlabel='population', ylabel='count'>"
      ]
     },
     "execution_count": 10,
     "metadata": {},
     "output_type": "execute_result"
    },
    {
     "data": {
      "image/png": "[encoded data removed]",
      "text/plain": [
       "<Figure size 432x288 with 1 Axes>"
      ]
     },
     "metadata": {
      "needs_background": "light"
     },
     "output_type": "display_data"
    }
   ],
   "source": [
    "# Countplot of population of mushrooms\n",
    "sns.countplot(data['population'])"
   ]
  },
  {
   "cell_type": "code",
   "execution_count": 11,
   "id": "00ac82b4",
   "metadata": {},
   "outputs": [
    {
     "data": {
      "text/plain": [
       "v    49.73\n",
       "y    21.07\n",
       "s    15.36\n",
       "n     4.92\n",
       "a     4.73\n",
       "c     4.19\n",
       "Name: population, dtype: float64"
      ]
     },
     "execution_count": 11,
     "metadata": {},
     "output_type": "execute_result"
    }
   ],
   "source": [
    "(data['population'].value_counts(normalize = True)*100).round(2)"
   ]
  },
  {
   "cell_type": "markdown",
   "id": "8a4a58ca",
   "metadata": {},
   "source": [
    "Several population of mushrooms make up 49.73%, solitary mushrooms population make 21.07% and scattered mushrooms form 15.36%."
   ]
  },
  {
   "cell_type": "code",
   "execution_count": 12,
   "id": "06e35488",
   "metadata": {},
   "outputs": [
    {
     "data": {
      "text/plain": [
       "<seaborn.axisgrid.FacetGrid at 0x1d58bc9d1c0>"
      ]
     },
     "execution_count": 12,
     "metadata": {},
     "output_type": "execute_result"
    },
    {
     "data": {
      "image/png": "[encoded data removed]",
      "text/plain": [
       "<Figure size 402.25x360 with 1 Axes>"
      ]
     },
     "metadata": {
      "needs_background": "light"
     },
     "output_type": "display_data"
    }
   ],
   "source": [
    "#Categorical plot of habitat and population of mushrooms\n",
    "sns.catplot('habitat', 'population', hue = 'class', data=data)"
   ]
  },
  {
   "cell_type": "markdown",
   "id": "06a083e9",
   "metadata": {},
   "source": [
    "**Splitting dataset**"
   ]
  },
  {
   "cell_type": "code",
   "execution_count": 13,
   "id": "dc5bcec0",
   "metadata": {},
   "outputs": [],
   "source": [
    "x = data.drop('class', axis = 1)\n",
    "y = data['class']"
   ]
  },
  {
   "cell_type": "markdown",
   "id": "95996b38",
   "metadata": {},
   "source": [
    "One hot Encoding"
   ]
  },
  {
   "cell_type": "code",
   "execution_count": 14,
   "id": "ee348027",
   "metadata": {},
   "outputs": [
    {
     "data": {
      "text/html": [
       "<div>\n",
       "<style scoped>\n",
       "    .dataframe tbody tr th:only-of-type {\n",
       "        vertical-align: middle;\n",
       "    }\n",
       "\n",
       "    .dataframe tbody tr th {\n",
       "        vertical-align: top;\n",
       "    }\n",
       "\n",
       "    .dataframe thead th {\n",
       "        text-align: right;\n",
       "    }\n",
       "</style>\n",
       "<table border=\"1\" class=\"dataframe\">\n",
       "  <thead>\n",
       "    <tr style=\"text-align: right;\">\n",
       "      <th></th>\n",
       "      <th>cap-shape_b</th>\n",
       "      <th>cap-shape_c</th>\n",
       "      <th>cap-shape_f</th>\n",
       "      <th>cap-shape_k</th>\n",
       "      <th>cap-shape_s</th>\n",
       "      <th>cap-shape_x</th>\n",
       "      <th>cap-surface_f</th>\n",
       "      <th>cap-surface_g</th>\n",
       "      <th>cap-surface_s</th>\n",
       "      <th>cap-surface_y</th>\n",
       "      <th>...</th>\n",
       "      <th>population_s</th>\n",
       "      <th>population_v</th>\n",
       "      <th>population_y</th>\n",
       "      <th>habitat_d</th>\n",
       "      <th>habitat_g</th>\n",
       "      <th>habitat_l</th>\n",
       "      <th>habitat_m</th>\n",
       "      <th>habitat_p</th>\n",
       "      <th>habitat_u</th>\n",
       "      <th>habitat_w</th>\n",
       "    </tr>\n",
       "  </thead>\n",
       "  <tbody>\n",
       "    <tr>\n",
       "      <th>0</th>\n",
       "      <td>0</td>\n",
       "      <td>0</td>\n",
       "      <td>0</td>\n",
       "      <td>0</td>\n",
       "      <td>0</td>\n",
       "      <td>1</td>\n",
       "      <td>0</td>\n",
       "      <td>0</td>\n",
       "      <td>1</td>\n",
       "      <td>0</td>\n",
       "      <td>...</td>\n",
       "      <td>1</td>\n",
       "      <td>0</td>\n",
       "      <td>0</td>\n",
       "      <td>0</td>\n",
       "      <td>0</td>\n",
       "      <td>0</td>\n",
       "      <td>0</td>\n",
       "      <td>0</td>\n",
       "      <td>1</td>\n",
       "      <td>0</td>\n",
       "    </tr>\n",
       "    <tr>\n",
       "      <th>1</th>\n",
       "      <td>0</td>\n",
       "      <td>0</td>\n",
       "      <td>0</td>\n",
       "      <td>0</td>\n",
       "      <td>0</td>\n",
       "      <td>1</td>\n",
       "      <td>0</td>\n",
       "      <td>0</td>\n",
       "      <td>1</td>\n",
       "      <td>0</td>\n",
       "      <td>...</td>\n",
       "      <td>0</td>\n",
       "      <td>0</td>\n",
       "      <td>0</td>\n",
       "      <td>0</td>\n",
       "      <td>1</td>\n",
       "      <td>0</td>\n",
       "      <td>0</td>\n",
       "      <td>0</td>\n",
       "      <td>0</td>\n",
       "      <td>0</td>\n",
       "    </tr>\n",
       "    <tr>\n",
       "      <th>2</th>\n",
       "      <td>1</td>\n",
       "      <td>0</td>\n",
       "      <td>0</td>\n",
       "      <td>0</td>\n",
       "      <td>0</td>\n",
       "      <td>0</td>\n",
       "      <td>0</td>\n",
       "      <td>0</td>\n",
       "      <td>1</td>\n",
       "      <td>0</td>\n",
       "      <td>...</td>\n",
       "      <td>0</td>\n",
       "      <td>0</td>\n",
       "      <td>0</td>\n",
       "      <td>0</td>\n",
       "      <td>0</td>\n",
       "      <td>0</td>\n",
       "      <td>1</td>\n",
       "      <td>0</td>\n",
       "      <td>0</td>\n",
       "      <td>0</td>\n",
       "    </tr>\n",
       "    <tr>\n",
       "      <th>3</th>\n",
       "      <td>0</td>\n",
       "      <td>0</td>\n",
       "      <td>0</td>\n",
       "      <td>0</td>\n",
       "      <td>0</td>\n",
       "      <td>1</td>\n",
       "      <td>0</td>\n",
       "      <td>0</td>\n",
       "      <td>0</td>\n",
       "      <td>1</td>\n",
       "      <td>...</td>\n",
       "      <td>1</td>\n",
       "      <td>0</td>\n",
       "      <td>0</td>\n",
       "      <td>0</td>\n",
       "      <td>0</td>\n",
       "      <td>0</td>\n",
       "      <td>0</td>\n",
       "      <td>0</td>\n",
       "      <td>1</td>\n",
       "      <td>0</td>\n",
       "    </tr>\n",
       "    <tr>\n",
       "      <th>4</th>\n",
       "      <td>0</td>\n",
       "      <td>0</td>\n",
       "      <td>0</td>\n",
       "      <td>0</td>\n",
       "      <td>0</td>\n",
       "      <td>1</td>\n",
       "      <td>0</td>\n",
       "      <td>0</td>\n",
       "      <td>1</td>\n",
       "      <td>0</td>\n",
       "      <td>...</td>\n",
       "      <td>0</td>\n",
       "      <td>0</td>\n",
       "      <td>0</td>\n",
       "      <td>0</td>\n",
       "      <td>1</td>\n",
       "      <td>0</td>\n",
       "      <td>0</td>\n",
       "      <td>0</td>\n",
       "      <td>0</td>\n",
       "      <td>0</td>\n",
       "    </tr>\n",
       "  </tbody>\n",
       "</table>\n",
       "<p>5 rows × 117 columns</p>\n",
       "</div>"
      ],
      "text/plain": [
       "   cap-shape_b  cap-shape_c  cap-shape_f  cap-shape_k  cap-shape_s  \\\n",
       "0            0            0            0            0            0   \n",
       "1            0            0            0            0            0   \n",
       "2            1            0            0            0            0   \n",
       "3            0            0            0            0            0   \n",
       "4            0            0            0            0            0   \n",
       "\n",
       "   cap-shape_x  cap-surface_f  cap-surface_g  cap-surface_s  cap-surface_y  \\\n",
       "0            1              0              0              1              0   \n",
       "1            1              0              0              1              0   \n",
       "2            0              0              0              1              0   \n",
       "3            1              0              0              0              1   \n",
       "4            1              0              0              1              0   \n",
       "\n",
       "   ...  population_s  population_v  population_y  habitat_d  habitat_g  \\\n",
       "0  ...             1             0             0          0          0   \n",
       "1  ...             0             0             0          0          1   \n",
       "2  ...             0             0             0          0          0   \n",
       "3  ...             1             0             0          0          0   \n",
       "4  ...             0             0             0          0          1   \n",
       "\n",
       "   habitat_l  habitat_m  habitat_p  habitat_u  habitat_w  \n",
       "0          0          0          0          1          0  \n",
       "1          0          0          0          0          0  \n",
       "2          0          1          0          0          0  \n",
       "3          0          0          0          1          0  \n",
       "4          0          0          0          0          0  \n",
       "\n",
       "[5 rows x 117 columns]"
      ]
     },
     "execution_count": 14,
     "metadata": {},
     "output_type": "execute_result"
    }
   ],
   "source": [
    "X = pd.get_dummies(x)\n",
    "X.head()"
   ]
  },
  {
   "cell_type": "code",
   "execution_count": 15,
   "id": "3e73805a",
   "metadata": {},
   "outputs": [
    {
     "name": "stdout",
     "output_type": "stream",
     "text": [
      "xtrain shape: (6499, 117)\n",
      "xtest shape: (1625, 117)\n",
      "ytrain shape: (6499,)\n",
      "ytest shape: (1625,)\n"
     ]
    }
   ],
   "source": [
    "from sklearn.model_selection import train_test_split\n",
    "x_train, x_test, y_train, y_test = train_test_split(X, y, random_state = 42, test_size = 0.2)\n",
    "print('xtrain shape:', x_train.shape)\n",
    "print('xtest shape:', x_test.shape)\n",
    "print('ytrain shape:', y_train.shape)\n",
    "print('ytest shape:', y_test.shape)"
   ]
  },
  {
   "cell_type": "code",
   "execution_count": 16,
   "id": "3d59d86b",
   "metadata": {},
   "outputs": [
    {
     "data": {
      "text/html": [
       "<div>\n",
       "<style scoped>\n",
       "    .dataframe tbody tr th:only-of-type {\n",
       "        vertical-align: middle;\n",
       "    }\n",
       "\n",
       "    .dataframe tbody tr th {\n",
       "        vertical-align: top;\n",
       "    }\n",
       "\n",
       "    .dataframe thead th {\n",
       "        text-align: right;\n",
       "    }\n",
       "</style>\n",
       "<table border=\"1\" class=\"dataframe\">\n",
       "  <thead>\n",
       "    <tr style=\"text-align: right;\">\n",
       "      <th></th>\n",
       "      <th>cap-shape_b</th>\n",
       "      <th>cap-shape_c</th>\n",
       "      <th>cap-shape_f</th>\n",
       "      <th>cap-shape_k</th>\n",
       "      <th>cap-shape_s</th>\n",
       "      <th>cap-shape_x</th>\n",
       "      <th>cap-surface_f</th>\n",
       "      <th>cap-surface_g</th>\n",
       "      <th>cap-surface_s</th>\n",
       "      <th>cap-surface_y</th>\n",
       "      <th>...</th>\n",
       "      <th>population_s</th>\n",
       "      <th>population_v</th>\n",
       "      <th>population_y</th>\n",
       "      <th>habitat_d</th>\n",
       "      <th>habitat_g</th>\n",
       "      <th>habitat_l</th>\n",
       "      <th>habitat_m</th>\n",
       "      <th>habitat_p</th>\n",
       "      <th>habitat_u</th>\n",
       "      <th>habitat_w</th>\n",
       "    </tr>\n",
       "  </thead>\n",
       "  <tbody>\n",
       "    <tr>\n",
       "      <th>7873</th>\n",
       "      <td>0</td>\n",
       "      <td>0</td>\n",
       "      <td>0</td>\n",
       "      <td>1</td>\n",
       "      <td>0</td>\n",
       "      <td>0</td>\n",
       "      <td>0</td>\n",
       "      <td>0</td>\n",
       "      <td>1</td>\n",
       "      <td>0</td>\n",
       "      <td>...</td>\n",
       "      <td>0</td>\n",
       "      <td>1</td>\n",
       "      <td>0</td>\n",
       "      <td>1</td>\n",
       "      <td>0</td>\n",
       "      <td>0</td>\n",
       "      <td>0</td>\n",
       "      <td>0</td>\n",
       "      <td>0</td>\n",
       "      <td>0</td>\n",
       "    </tr>\n",
       "    <tr>\n",
       "      <th>6515</th>\n",
       "      <td>0</td>\n",
       "      <td>0</td>\n",
       "      <td>0</td>\n",
       "      <td>0</td>\n",
       "      <td>0</td>\n",
       "      <td>1</td>\n",
       "      <td>0</td>\n",
       "      <td>0</td>\n",
       "      <td>1</td>\n",
       "      <td>0</td>\n",
       "      <td>...</td>\n",
       "      <td>0</td>\n",
       "      <td>1</td>\n",
       "      <td>0</td>\n",
       "      <td>0</td>\n",
       "      <td>0</td>\n",
       "      <td>0</td>\n",
       "      <td>0</td>\n",
       "      <td>1</td>\n",
       "      <td>0</td>\n",
       "      <td>0</td>\n",
       "    </tr>\n",
       "    <tr>\n",
       "      <th>6141</th>\n",
       "      <td>0</td>\n",
       "      <td>0</td>\n",
       "      <td>1</td>\n",
       "      <td>0</td>\n",
       "      <td>0</td>\n",
       "      <td>0</td>\n",
       "      <td>0</td>\n",
       "      <td>0</td>\n",
       "      <td>0</td>\n",
       "      <td>1</td>\n",
       "      <td>...</td>\n",
       "      <td>0</td>\n",
       "      <td>1</td>\n",
       "      <td>0</td>\n",
       "      <td>0</td>\n",
       "      <td>0</td>\n",
       "      <td>1</td>\n",
       "      <td>0</td>\n",
       "      <td>0</td>\n",
       "      <td>0</td>\n",
       "      <td>0</td>\n",
       "    </tr>\n",
       "    <tr>\n",
       "      <th>2764</th>\n",
       "      <td>0</td>\n",
       "      <td>0</td>\n",
       "      <td>1</td>\n",
       "      <td>0</td>\n",
       "      <td>0</td>\n",
       "      <td>0</td>\n",
       "      <td>1</td>\n",
       "      <td>0</td>\n",
       "      <td>0</td>\n",
       "      <td>0</td>\n",
       "      <td>...</td>\n",
       "      <td>0</td>\n",
       "      <td>1</td>\n",
       "      <td>0</td>\n",
       "      <td>1</td>\n",
       "      <td>0</td>\n",
       "      <td>0</td>\n",
       "      <td>0</td>\n",
       "      <td>0</td>\n",
       "      <td>0</td>\n",
       "      <td>0</td>\n",
       "    </tr>\n",
       "    <tr>\n",
       "      <th>438</th>\n",
       "      <td>1</td>\n",
       "      <td>0</td>\n",
       "      <td>0</td>\n",
       "      <td>0</td>\n",
       "      <td>0</td>\n",
       "      <td>0</td>\n",
       "      <td>0</td>\n",
       "      <td>0</td>\n",
       "      <td>0</td>\n",
       "      <td>1</td>\n",
       "      <td>...</td>\n",
       "      <td>0</td>\n",
       "      <td>0</td>\n",
       "      <td>0</td>\n",
       "      <td>0</td>\n",
       "      <td>0</td>\n",
       "      <td>0</td>\n",
       "      <td>1</td>\n",
       "      <td>0</td>\n",
       "      <td>0</td>\n",
       "      <td>0</td>\n",
       "    </tr>\n",
       "    <tr>\n",
       "      <th>5194</th>\n",
       "      <td>0</td>\n",
       "      <td>0</td>\n",
       "      <td>0</td>\n",
       "      <td>0</td>\n",
       "      <td>0</td>\n",
       "      <td>1</td>\n",
       "      <td>0</td>\n",
       "      <td>0</td>\n",
       "      <td>0</td>\n",
       "      <td>1</td>\n",
       "      <td>...</td>\n",
       "      <td>0</td>\n",
       "      <td>1</td>\n",
       "      <td>0</td>\n",
       "      <td>0</td>\n",
       "      <td>0</td>\n",
       "      <td>1</td>\n",
       "      <td>0</td>\n",
       "      <td>0</td>\n",
       "      <td>0</td>\n",
       "      <td>0</td>\n",
       "    </tr>\n",
       "    <tr>\n",
       "      <th>2629</th>\n",
       "      <td>0</td>\n",
       "      <td>0</td>\n",
       "      <td>0</td>\n",
       "      <td>0</td>\n",
       "      <td>0</td>\n",
       "      <td>1</td>\n",
       "      <td>1</td>\n",
       "      <td>0</td>\n",
       "      <td>0</td>\n",
       "      <td>0</td>\n",
       "      <td>...</td>\n",
       "      <td>0</td>\n",
       "      <td>0</td>\n",
       "      <td>1</td>\n",
       "      <td>1</td>\n",
       "      <td>0</td>\n",
       "      <td>0</td>\n",
       "      <td>0</td>\n",
       "      <td>0</td>\n",
       "      <td>0</td>\n",
       "      <td>0</td>\n",
       "    </tr>\n",
       "    <tr>\n",
       "      <th>5976</th>\n",
       "      <td>0</td>\n",
       "      <td>0</td>\n",
       "      <td>0</td>\n",
       "      <td>1</td>\n",
       "      <td>0</td>\n",
       "      <td>0</td>\n",
       "      <td>0</td>\n",
       "      <td>0</td>\n",
       "      <td>1</td>\n",
       "      <td>0</td>\n",
       "      <td>...</td>\n",
       "      <td>0</td>\n",
       "      <td>0</td>\n",
       "      <td>0</td>\n",
       "      <td>0</td>\n",
       "      <td>0</td>\n",
       "      <td>0</td>\n",
       "      <td>0</td>\n",
       "      <td>0</td>\n",
       "      <td>0</td>\n",
       "      <td>1</td>\n",
       "    </tr>\n",
       "    <tr>\n",
       "      <th>4525</th>\n",
       "      <td>0</td>\n",
       "      <td>0</td>\n",
       "      <td>1</td>\n",
       "      <td>0</td>\n",
       "      <td>0</td>\n",
       "      <td>0</td>\n",
       "      <td>0</td>\n",
       "      <td>0</td>\n",
       "      <td>0</td>\n",
       "      <td>1</td>\n",
       "      <td>...</td>\n",
       "      <td>0</td>\n",
       "      <td>0</td>\n",
       "      <td>1</td>\n",
       "      <td>1</td>\n",
       "      <td>0</td>\n",
       "      <td>0</td>\n",
       "      <td>0</td>\n",
       "      <td>0</td>\n",
       "      <td>0</td>\n",
       "      <td>0</td>\n",
       "    </tr>\n",
       "    <tr>\n",
       "      <th>2375</th>\n",
       "      <td>0</td>\n",
       "      <td>0</td>\n",
       "      <td>1</td>\n",
       "      <td>0</td>\n",
       "      <td>0</td>\n",
       "      <td>0</td>\n",
       "      <td>0</td>\n",
       "      <td>0</td>\n",
       "      <td>1</td>\n",
       "      <td>0</td>\n",
       "      <td>...</td>\n",
       "      <td>0</td>\n",
       "      <td>1</td>\n",
       "      <td>0</td>\n",
       "      <td>0</td>\n",
       "      <td>0</td>\n",
       "      <td>0</td>\n",
       "      <td>0</td>\n",
       "      <td>0</td>\n",
       "      <td>1</td>\n",
       "      <td>0</td>\n",
       "    </tr>\n",
       "  </tbody>\n",
       "</table>\n",
       "<p>10 rows × 117 columns</p>\n",
       "</div>"
      ],
      "text/plain": [
       "      cap-shape_b  cap-shape_c  cap-shape_f  cap-shape_k  cap-shape_s  \\\n",
       "7873            0            0            0            1            0   \n",
       "6515            0            0            0            0            0   \n",
       "6141            0            0            1            0            0   \n",
       "2764            0            0            1            0            0   \n",
       "438             1            0            0            0            0   \n",
       "5194            0            0            0            0            0   \n",
       "2629            0            0            0            0            0   \n",
       "5976            0            0            0            1            0   \n",
       "4525            0            0            1            0            0   \n",
       "2375            0            0            1            0            0   \n",
       "\n",
       "      cap-shape_x  cap-surface_f  cap-surface_g  cap-surface_s  cap-surface_y  \\\n",
       "7873            0              0              0              1              0   \n",
       "6515            1              0              0              1              0   \n",
       "6141            0              0              0              0              1   \n",
       "2764            0              1              0              0              0   \n",
       "438             0              0              0              0              1   \n",
       "5194            1              0              0              0              1   \n",
       "2629            1              1              0              0              0   \n",
       "5976            0              0              0              1              0   \n",
       "4525            0              0              0              0              1   \n",
       "2375            0              0              0              1              0   \n",
       "\n",
       "      ...  population_s  population_v  population_y  habitat_d  habitat_g  \\\n",
       "7873  ...             0             1             0          1          0   \n",
       "6515  ...             0             1             0          0          0   \n",
       "6141  ...             0             1             0          0          0   \n",
       "2764  ...             0             1             0          1          0   \n",
       "438   ...             0             0             0          0          0   \n",
       "5194  ...             0             1             0          0          0   \n",
       "2629  ...             0             0             1          1          0   \n",
       "5976  ...             0             0             0          0          0   \n",
       "4525  ...             0             0             1          1          0   \n",
       "2375  ...             0             1             0          0          0   \n",
       "\n",
       "      habitat_l  habitat_m  habitat_p  habitat_u  habitat_w  \n",
       "7873          0          0          0          0          0  \n",
       "6515          0          0          1          0          0  \n",
       "6141          1          0          0          0          0  \n",
       "2764          0          0          0          0          0  \n",
       "438           0          1          0          0          0  \n",
       "5194          1          0          0          0          0  \n",
       "2629          0          0          0          0          0  \n",
       "5976          0          0          0          0          1  \n",
       "4525          0          0          0          0          0  \n",
       "2375          0          0          0          1          0  \n",
       "\n",
       "[10 rows x 117 columns]"
      ]
     },
     "execution_count": 16,
     "metadata": {},
     "output_type": "execute_result"
    }
   ],
   "source": [
    "x_train[:10]"
   ]
  },
  {
   "cell_type": "markdown",
   "id": "1056680b",
   "metadata": {},
   "source": [
    "**Naive Bayes Algorithm**"
   ]
  },
  {
   "cell_type": "code",
   "execution_count": 17,
   "id": "a96bcc14",
   "metadata": {},
   "outputs": [],
   "source": [
    "from sklearn.naive_bayes import GaussianNB\n",
    "\n",
    "NaiveBayes = GaussianNB()\n",
    "model = NaiveBayes.fit(x_train, y_train)\n",
    "prediction = NaiveBayes.predict(x_test)"
   ]
  },
  {
   "cell_type": "code",
   "execution_count": 18,
   "id": "1b9b0cda",
   "metadata": {},
   "outputs": [],
   "source": [
    "import sys\n",
    "np.set_printoptions(threshold=sys.maxsize)"
   ]
  },
  {
   "cell_type": "code",
   "execution_count": 19,
   "id": "2dc1ea85",
   "metadata": {},
   "outputs": [
    {
     "name": "stdout",
     "output_type": "stream",
     "text": [
      "Predicted classes: ['e' 'p' 'p' 'e' 'p' 'p' 'p' 'p' 'e' 'e' 'p' 'p' 'e' 'e' 'p' 'e' 'e' 'p'\n",
      " 'e' 'e' 'e' 'e' 'p' 'e' 'p' 'e' 'e' 'e' 'e' 'p' 'p' 'p' 'e' 'p' 'e' 'p'\n",
      " 'e' 'p' 'p' 'p' 'p' 'e' 'p' 'e' 'p' 'e' 'p' 'e' 'p' 'e' 'p' 'p' 'p' 'p'\n",
      " 'e' 'p' 'p' 'e' 'p' 'p' 'p' 'e' 'e' 'e' 'p' 'p' 'e' 'p' 'e' 'p' 'p' 'p'\n",
      " 'e' 'p' 'p' 'p' 'e' 'p' 'p' 'p' 'e' 'p' 'e' 'p' 'e' 'p' 'p' 'p' 'e' 'p'\n",
      " 'e' 'e' 'e' 'e' 'p' 'p' 'p' 'e' 'p' 'e' 'e' 'e' 'e' 'e' 'p' 'p' 'e' 'p'\n",
      " 'e' 'p' 'p' 'p' 'p' 'p' 'p' 'p' 'e' 'e' 'e' 'p' 'p' 'p' 'p' 'e' 'p' 'e'\n",
      " 'p' 'p' 'e' 'e' 'e' 'e' 'e' 'e' 'p' 'p' 'p' 'p' 'p' 'p' 'p' 'e' 'e' 'p'\n",
      " 'p' 'p' 'e' 'e' 'e' 'p' 'p' 'e' 'p' 'p' 'e' 'p' 'p' 'p' 'p' 'p' 'e' 'e'\n",
      " 'p' 'e' 'p' 'e' 'p' 'p' 'p' 'p' 'e' 'e' 'e' 'e' 'p' 'p' 'p' 'e' 'e' 'e'\n",
      " 'e' 'p' 'e' 'e' 'p' 'e' 'p' 'p' 'p' 'e' 'e' 'p' 'e' 'p' 'e' 'e' 'p' 'e'\n",
      " 'e' 'e' 'p' 'p' 'p' 'e' 'e' 'p' 'e' 'p' 'e' 'p' 'p' 'e' 'e' 'e' 'p' 'e'\n",
      " 'p' 'p' 'p' 'e' 'e' 'p' 'e' 'e' 'p' 'e' 'e' 'e' 'p' 'p' 'p' 'e' 'e' 'e'\n",
      " 'e' 'p' 'e' 'e' 'p' 'p' 'e' 'p' 'p' 'e' 'e' 'e' 'p' 'e' 'e' 'p' 'p' 'e'\n",
      " 'e' 'p' 'p' 'p' 'e' 'p' 'e' 'e' 'e' 'e' 'e' 'p' 'p' 'e' 'e' 'e' 'e' 'e'\n",
      " 'p' 'p' 'e' 'p' 'e' 'p' 'e' 'p' 'e' 'e' 'e' 'p' 'e' 'p' 'e' 'e' 'p' 'e'\n",
      " 'p' 'p' 'p' 'e' 'p' 'e' 'e' 'e' 'e' 'e' 'p' 'e' 'e' 'p' 'p' 'p' 'e' 'p'\n",
      " 'p' 'e' 'e' 'p' 'p' 'e' 'p' 'e' 'e' 'p' 'e' 'p' 'p' 'p' 'e' 'p' 'e' 'p'\n",
      " 'p' 'p' 'p' 'p' 'p' 'p' 'e' 'e' 'p' 'p' 'p' 'p' 'p' 'p' 'e' 'p' 'e' 'e'\n",
      " 'e' 'p' 'e' 'p' 'p' 'e' 'e' 'p' 'e' 'e' 'e' 'e' 'e' 'p' 'e' 'e' 'p' 'e'\n",
      " 'e' 'p' 'p' 'p' 'p' 'e' 'p' 'p' 'p' 'p' 'e' 'e' 'e' 'e' 'p' 'p' 'e' 'p'\n",
      " 'p' 'e' 'e' 'e' 'p' 'p' 'p' 'e' 'p' 'p' 'p' 'p' 'p' 'p' 'e' 'p' 'p' 'e'\n",
      " 'p' 'e' 'p' 'p' 'e' 'e' 'e' 'e' 'p' 'p' 'p' 'e' 'e' 'p' 'p' 'e' 'p' 'e'\n",
      " 'p' 'p' 'e' 'p' 'p' 'p' 'e' 'p' 'e' 'e' 'p' 'e' 'p' 'p' 'e' 'p' 'p' 'p'\n",
      " 'e' 'p' 'e' 'p' 'e' 'p' 'p' 'e' 'e' 'p' 'p' 'p' 'p' 'p' 'p' 'p' 'p' 'p'\n",
      " 'p' 'p' 'p' 'e' 'e' 'e' 'p' 'e' 'e' 'e' 'p' 'p' 'p' 'p' 'p' 'p' 'e' 'e'\n",
      " 'p' 'e' 'p' 'e' 'e' 'p' 'p' 'e' 'e' 'e' 'e' 'p' 'p' 'e' 'e' 'p' 'p' 'p'\n",
      " 'e' 'e' 'e' 'e' 'e' 'e' 'e' 'p' 'p' 'e' 'p' 'e' 'p' 'p' 'e' 'p' 'p' 'p'\n",
      " 'p' 'e' 'e' 'p' 'e' 'e' 'e' 'e' 'p' 'e' 'e' 'p' 'e' 'p' 'e' 'e' 'p' 'e'\n",
      " 'e' 'p' 'e' 'p' 'p' 'e' 'e' 'p' 'p' 'p' 'e' 'e' 'p' 'p' 'p' 'p' 'e' 'e'\n",
      " 'p' 'p' 'e' 'p' 'e' 'e' 'e' 'e' 'p' 'p' 'p' 'p' 'p' 'e' 'p' 'e' 'p' 'p'\n",
      " 'p' 'e' 'e' 'e' 'p' 'p' 'p' 'e' 'p' 'e' 'e' 'e' 'e' 'e' 'e' 'e' 'e' 'p'\n",
      " 'e' 'p' 'p' 'p' 'p' 'p' 'p' 'e' 'p' 'e' 'p' 'p' 'p' 'e' 'e' 'e' 'e' 'e'\n",
      " 'e' 'p' 'e' 'p' 'e' 'e' 'e' 'e' 'p' 'e' 'e' 'p' 'p' 'p' 'p' 'p' 'p' 'e'\n",
      " 'p' 'p' 'e' 'e' 'p' 'e' 'p' 'e' 'p' 'p' 'p' 'e' 'e' 'p' 'e' 'e' 'e' 'p'\n",
      " 'e' 'p' 'e' 'p' 'p' 'e' 'p' 'p' 'e' 'e' 'e' 'e' 'e' 'e' 'p' 'p' 'p' 'p'\n",
      " 'e' 'p' 'p' 'p' 'e' 'e' 'e' 'e' 'e' 'p' 'p' 'p' 'e' 'p' 'e' 'p' 'e' 'e'\n",
      " 'p' 'p' 'p' 'e' 'e' 'e' 'e' 'e' 'e' 'p' 'e' 'e' 'e' 'e' 'p' 'p' 'p' 'e'\n",
      " 'p' 'e' 'p' 'e' 'p' 'e' 'p' 'e' 'e' 'p' 'e' 'e' 'p' 'e' 'e' 'e' 'p' 'e'\n",
      " 'e' 'p' 'p' 'e' 'e' 'p' 'p' 'p' 'e' 'p' 'e' 'e' 'p' 'p' 'e' 'p' 'e' 'e'\n",
      " 'p' 'p' 'e' 'e' 'p' 'e' 'p' 'p' 'e' 'p' 'e' 'p' 'e' 'e' 'e' 'p' 'p' 'e'\n",
      " 'p' 'e' 'p' 'e' 'e' 'e' 'p' 'e' 'e' 'p' 'p' 'p' 'e' 'e' 'e' 'e' 'p' 'p'\n",
      " 'e' 'p' 'p' 'e' 'p' 'p' 'p' 'e' 'e' 'p' 'e' 'p' 'e' 'e' 'p' 'p' 'p' 'e'\n",
      " 'e' 'p' 'p' 'e' 'e' 'p' 'e' 'e' 'p' 'p' 'p' 'p' 'p' 'p' 'e' 'p' 'p' 'e'\n",
      " 'e' 'e' 'e' 'e' 'e' 'p' 'p' 'e' 'e' 'e' 'p' 'e' 'p' 'e' 'e' 'p' 'e' 'p'\n",
      " 'p' 'p' 'p' 'p' 'p' 'e' 'p' 'p' 'p' 'e' 'e' 'e' 'e' 'p' 'e' 'p' 'e' 'e'\n",
      " 'e' 'p' 'e' 'e' 'e' 'p' 'p' 'p' 'p' 'p' 'e' 'e' 'e' 'p' 'p' 'e' 'e' 'e'\n",
      " 'e' 'e' 'p' 'p' 'e' 'e' 'e' 'p' 'p' 'e' 'p' 'e' 'p' 'e' 'p' 'p' 'p' 'p'\n",
      " 'e' 'e' 'p' 'p' 'e' 'e' 'e' 'e' 'e' 'e' 'p' 'p' 'e' 'p' 'e' 'p' 'p' 'p'\n",
      " 'p' 'e' 'p' 'e' 'p' 'p' 'e' 'p' 'p' 'p' 'p' 'e' 'e' 'e' 'p' 'p' 'p' 'p'\n",
      " 'p' 'e' 'e' 'e' 'e' 'e' 'p' 'p' 'e' 'e' 'e' 'p' 'p' 'p' 'p' 'e' 'p' 'p'\n",
      " 'e' 'p' 'p' 'e' 'p' 'e' 'e' 'p' 'e' 'p' 'p' 'e' 'p' 'p' 'p' 'e' 'p' 'e'\n",
      " 'p' 'p' 'e' 'p' 'e' 'p' 'e' 'e' 'p' 'p' 'p' 'p' 'p' 'p' 'p' 'e' 'e' 'e'\n",
      " 'e' 'e' 'e' 'e' 'e' 'e' 'e' 'p' 'e' 'e' 'p' 'e' 'p' 'p' 'e' 'p' 'p' 'p'\n",
      " 'p' 'p' 'p' 'p' 'p' 'p' 'p' 'e' 'e' 'e' 'p' 'e' 'p' 'e' 'e' 'p' 'e' 'p'\n",
      " 'p' 'e' 'p' 'p' 'e' 'p' 'p' 'e' 'e' 'e' 'p' 'e' 'e' 'e' 'p' 'e' 'e' 'p'\n",
      " 'p' 'e' 'p' 'e' 'p' 'e' 'p' 'p' 'e' 'e' 'p' 'e' 'p' 'p' 'e' 'p' 'p' 'e'\n",
      " 'e' 'e' 'p' 'p' 'e' 'e' 'e' 'e' 'e' 'p' 'p' 'p' 'p' 'p' 'e' 'e' 'e' 'p'\n",
      " 'p' 'e' 'e' 'e' 'e' 'p' 'p' 'p' 'e' 'p' 'p' 'e' 'p' 'e' 'p' 'e' 'p' 'p'\n",
      " 'p' 'p' 'e' 'e' 'p' 'e' 'p' 'e' 'p' 'p' 'p' 'e' 'e' 'e' 'e' 'p' 'e' 'e'\n",
      " 'p' 'p' 'p' 'e' 'e' 'e' 'p' 'p' 'p' 'p' 'e' 'e' 'p' 'e' 'p' 'p' 'e' 'e'\n",
      " 'e' 'e' 'p' 'p' 'p' 'e' 'p' 'e' 'p' 'p' 'p' 'p' 'e' 'p' 'p' 'p' 'e' 'p'\n",
      " 'e' 'p' 'e' 'e' 'p' 'p' 'p' 'e' 'p' 'e' 'e' 'p' 'p' 'p' 'p' 'e' 'e' 'p'\n",
      " 'e' 'p' 'p' 'e' 'p' 'e' 'e' 'e' 'p' 'e' 'e' 'e' 'p' 'p' 'e' 'p' 'p' 'p'\n",
      " 'p' 'p' 'e' 'p' 'p' 'p' 'p' 'e' 'e' 'p' 'e' 'e' 'e' 'p' 'p' 'p' 'e' 'e'\n",
      " 'e' 'p' 'p' 'e' 'e' 'e' 'p' 'p' 'p' 'p' 'p' 'p' 'e' 'e' 'p' 'p' 'p' 'e'\n",
      " 'p' 'p' 'p' 'p' 'e' 'p' 'p' 'e' 'e' 'e' 'e' 'p' 'p' 'p' 'p' 'e' 'e' 'p'\n",
      " 'e' 'e' 'p' 'e' 'e' 'p' 'e' 'p' 'p' 'p' 'e' 'e' 'e' 'e' 'p' 'p' 'p' 'e'\n",
      " 'e' 'e' 'p' 'e' 'e' 'p' 'p' 'p' 'p' 'e' 'e' 'e' 'p' 'e' 'e' 'e' 'e' 'p'\n",
      " 'p' 'p' 'e' 'e' 'e' 'e' 'p' 'e' 'p' 'e' 'p' 'p' 'e' 'e' 'p' 'e' 'p' 'e'\n",
      " 'e' 'p' 'p' 'e' 'p' 'p' 'p' 'p' 'p' 'p' 'e' 'e' 'p' 'p' 'p' 'p' 'p' 'p'\n",
      " 'e' 'e' 'p' 'p' 'e' 'p' 'p' 'p' 'e' 'p' 'e' 'e' 'p' 'e' 'e' 'e' 'e' 'p'\n",
      " 'e' 'p' 'e' 'p' 'p' 'p' 'e' 'e' 'p' 'e' 'p' 'e' 'e' 'p' 'p' 'e' 'p' 'e'\n",
      " 'e' 'e' 'p' 'e' 'e' 'e' 'p' 'p' 'e' 'p' 'p' 'p' 'p' 'e' 'e' 'e' 'e' 'p'\n",
      " 'p' 'e' 'p' 'e' 'p' 'e' 'e' 'e' 'p' 'e' 'p' 'p' 'e' 'p' 'e' 'e' 'e' 'p'\n",
      " 'e' 'p' 'p' 'e' 'e' 'e' 'e' 'p' 'e' 'p' 'e' 'e' 'p' 'e' 'p' 'p' 'p' 'e'\n",
      " 'p' 'e' 'p' 'e' 'p' 'e' 'p' 'p' 'p' 'p' 'p' 'p' 'p' 'p' 'p' 'e' 'p' 'p'\n",
      " 'p' 'p' 'p' 'p' 'p' 'p' 'e' 'e' 'e' 'e' 'p' 'p' 'p' 'p' 'p' 'p' 'p' 'e'\n",
      " 'p' 'p' 'e' 'p' 'e' 'e' 'p' 'e' 'p' 'p' 'p' 'e' 'e' 'p' 'e' 'p' 'p' 'e'\n",
      " 'p' 'e' 'p' 'e' 'e' 'e' 'p' 'e' 'e' 'e' 'p' 'e' 'p' 'e' 'e' 'p' 'e' 'e'\n",
      " 'e' 'e' 'p' 'p' 'p' 'p' 'e' 'e' 'p' 'e' 'e' 'e' 'e' 'p' 'e' 'p' 'p' 'p'\n",
      " 'p' 'p' 'p' 'e' 'p' 'e' 'p' 'p' 'e' 'p' 'p' 'e' 'p' 'e' 'p' 'e' 'e' 'p'\n",
      " 'e' 'p' 'p' 'p' 'e' 'p' 'e' 'p' 'p' 'p' 'e' 'e' 'p' 'p' 'e' 'e' 'e' 'p'\n",
      " 'p' 'e' 'p' 'e' 'e' 'e' 'e' 'e' 'p' 'e' 'p' 'p' 'p' 'p' 'p' 'e' 'p' 'p'\n",
      " 'p' 'p' 'p' 'e' 'p' 'e' 'e' 'p' 'p' 'e' 'e' 'p' 'p' 'e' 'e' 'e' 'e' 'e'\n",
      " 'p' 'p' 'p' 'p' 'p' 'e' 'p' 'e' 'e' 'e' 'e' 'e' 'p' 'e' 'e' 'e' 'p' 'p'\n",
      " 'e' 'e' 'e' 'e' 'p' 'p' 'p' 'e' 'p' 'e' 'e' 'e' 'p' 'p' 'p' 'p' 'p' 'e'\n",
      " 'e' 'e' 'e' 'e' 'e' 'e' 'e' 'e' 'e' 'p' 'p' 'p' 'e' 'p' 'p' 'e' 'e' 'p'\n",
      " 'p' 'e' 'e' 'p' 'p' 'e' 'p' 'e' 'e' 'p' 'p' 'p' 'e' 'p' 'e' 'p' 'e' 'p'\n",
      " 'p' 'p' 'p' 'p' 'e' 'p' 'e' 'p' 'p' 'p' 'e' 'e' 'e' 'p' 'p' 'p' 'p' 'p'\n",
      " 'p' 'e' 'p' 'p' 'p']\n"
     ]
    }
   ],
   "source": [
    "print('Predicted classes:', prediction)"
   ]
  },
  {
   "cell_type": "code",
   "execution_count": 20,
   "id": "bcad856e",
   "metadata": {},
   "outputs": [
    {
     "name": "stdout",
     "output_type": "stream",
     "text": [
      "[[778  65]\n",
      " [  0 782]]\n"
     ]
    }
   ],
   "source": [
    "from sklearn.metrics import confusion_matrix, accuracy_score\n",
    "print(confusion_matrix(y_test, prediction)) #confusion matrix"
   ]
  },
  {
   "cell_type": "code",
   "execution_count": 21,
   "id": "4b5ab4b9",
   "metadata": {
    "scrolled": true
   },
   "outputs": [
    {
     "name": "stdout",
     "output_type": "stream",
     "text": [
      "Accuracy score: 0.96\n"
     ]
    }
   ],
   "source": [
    "print('Accuracy score:', accuracy_score(y_test, prediction))"
   ]
  },
  {
   "cell_type": "markdown",
   "id": "927d7243",
   "metadata": {},
   "source": [
    "Applying Naive Bayes Classifier, we have 65 misclassifications."
   ]
  },
  {
   "cell_type": "markdown",
   "id": "bda80fd0",
   "metadata": {},
   "source": [
    "**Support Vector Machine**"
   ]
  },
  {
   "cell_type": "markdown",
   "id": "184c5356",
   "metadata": {},
   "source": [
    "Linear SVM"
   ]
  },
  {
   "cell_type": "code",
   "execution_count": 22,
   "id": "a3c60b2a",
   "metadata": {},
   "outputs": [],
   "source": [
    "from sklearn.svm import SVC\n",
    "\n",
    "svm_linear = SVC(kernel = 'linear')\n",
    "model = svm_linear.fit(x_train, y_train)\n",
    "pred = model.predict(x_test)"
   ]
  },
  {
   "cell_type": "code",
   "execution_count": 23,
   "id": "4a2eb057",
   "metadata": {},
   "outputs": [
    {
     "name": "stdout",
     "output_type": "stream",
     "text": [
      "Accuracy score: 1.0\n"
     ]
    }
   ],
   "source": [
    "print('Accuracy score:', accuracy_score(y_test, pred))"
   ]
  },
  {
   "cell_type": "code",
   "execution_count": 24,
   "id": "9224235d",
   "metadata": {},
   "outputs": [
    {
     "name": "stdout",
     "output_type": "stream",
     "text": [
      "[[843   0]\n",
      " [  0 782]]\n"
     ]
    }
   ],
   "source": [
    "print(confusion_matrix(y_test, pred))"
   ]
  },
  {
   "cell_type": "markdown",
   "id": "e0fb3419",
   "metadata": {},
   "source": [
    "Radial Basis Function"
   ]
  },
  {
   "cell_type": "code",
   "execution_count": 25,
   "id": "2fd09ccc",
   "metadata": {},
   "outputs": [],
   "source": [
    "svm_rbf = SVC(kernel='rbf')\n",
    "model = svm_rbf.fit(x_train,y_train)\n",
    "pred = model.predict(x_test)"
   ]
  },
  {
   "cell_type": "code",
   "execution_count": 26,
   "id": "0ae8bf65",
   "metadata": {},
   "outputs": [
    {
     "name": "stdout",
     "output_type": "stream",
     "text": [
      "Accuracy score: 1.0\n"
     ]
    }
   ],
   "source": [
    "print('Accuracy score:', accuracy_score(y_test, pred))"
   ]
  },
  {
   "cell_type": "code",
   "execution_count": 27,
   "id": "a88384bd",
   "metadata": {},
   "outputs": [
    {
     "name": "stdout",
     "output_type": "stream",
     "text": [
      "[[843   0]\n",
      " [  0 782]]\n"
     ]
    }
   ],
   "source": [
    "print(confusion_matrix(y_test, pred))"
   ]
  },
  {
   "cell_type": "markdown",
   "id": "22da28af",
   "metadata": {},
   "source": [
    "Polynomial SVM"
   ]
  },
  {
   "cell_type": "code",
   "execution_count": 28,
   "id": "f3019367",
   "metadata": {},
   "outputs": [],
   "source": [
    "svm_poly = SVC(kernel='poly', degree=3)\n",
    "model = svm_poly.fit(x_train, y_train)\n",
    "pred = model.predict(x_test)"
   ]
  },
  {
   "cell_type": "code",
   "execution_count": 29,
   "id": "542cb44f",
   "metadata": {},
   "outputs": [
    {
     "name": "stdout",
     "output_type": "stream",
     "text": [
      "Accuracy score: 1.0\n"
     ]
    }
   ],
   "source": [
    "print('Accuracy score:', accuracy_score(y_test, pred))"
   ]
  },
  {
   "cell_type": "code",
   "execution_count": 30,
   "id": "98f17786",
   "metadata": {},
   "outputs": [
    {
     "name": "stdout",
     "output_type": "stream",
     "text": [
      "[[843   0]\n",
      " [  0 782]]\n"
     ]
    }
   ],
   "source": [
    "print(confusion_matrix(y_test, pred))"
   ]
  },
  {
   "cell_type": "markdown",
   "id": "d3d58e24",
   "metadata": {},
   "source": [
    "All 3 types of kernels give zero misclassifications."
   ]
  },
  {
   "cell_type": "markdown",
   "id": "35bf86dd",
   "metadata": {},
   "source": [
    "**AdaBoost Classifier**"
   ]
  },
  {
   "cell_type": "code",
   "execution_count": 31,
   "id": "721e6854",
   "metadata": {},
   "outputs": [],
   "source": [
    "from sklearn.ensemble import AdaBoostClassifier\n",
    "abc = AdaBoostClassifier()\n",
    "\n",
    "model = abc.fit(x_train, y_train)\n",
    "\n",
    "prediction = abc.predict(x_test)"
   ]
  },
  {
   "cell_type": "code",
   "execution_count": 32,
   "id": "52085701",
   "metadata": {},
   "outputs": [
    {
     "name": "stdout",
     "output_type": "stream",
     "text": [
      "Predicted classes: ['e' 'p' 'p' 'e' 'p' 'p' 'p' 'p' 'e' 'e' 'e' 'p' 'e' 'e' 'e' 'e' 'e' 'p'\n",
      " 'e' 'e' 'e' 'e' 'p' 'e' 'p' 'e' 'e' 'e' 'e' 'p' 'p' 'p' 'e' 'e' 'e' 'p'\n",
      " 'e' 'p' 'p' 'p' 'p' 'e' 'p' 'e' 'p' 'e' 'p' 'e' 'p' 'e' 'p' 'p' 'p' 'p'\n",
      " 'e' 'p' 'e' 'e' 'p' 'p' 'p' 'e' 'e' 'e' 'p' 'p' 'e' 'p' 'e' 'p' 'p' 'p'\n",
      " 'e' 'p' 'p' 'p' 'e' 'p' 'p' 'p' 'e' 'p' 'e' 'e' 'e' 'e' 'p' 'p' 'e' 'p'\n",
      " 'e' 'e' 'e' 'e' 'p' 'p' 'p' 'e' 'p' 'e' 'e' 'e' 'e' 'e' 'p' 'p' 'e' 'p'\n",
      " 'e' 'p' 'p' 'p' 'p' 'p' 'p' 'p' 'e' 'e' 'e' 'p' 'p' 'p' 'p' 'e' 'e' 'e'\n",
      " 'p' 'p' 'e' 'e' 'e' 'e' 'e' 'e' 'p' 'p' 'p' 'p' 'p' 'p' 'p' 'e' 'e' 'p'\n",
      " 'p' 'p' 'e' 'e' 'e' 'p' 'p' 'e' 'p' 'p' 'e' 'e' 'p' 'p' 'p' 'p' 'e' 'e'\n",
      " 'p' 'e' 'p' 'e' 'p' 'p' 'p' 'p' 'e' 'e' 'e' 'e' 'p' 'e' 'p' 'e' 'e' 'e'\n",
      " 'e' 'p' 'e' 'e' 'p' 'e' 'e' 'p' 'p' 'e' 'e' 'p' 'e' 'e' 'e' 'e' 'p' 'e'\n",
      " 'e' 'e' 'e' 'p' 'p' 'e' 'e' 'p' 'e' 'p' 'e' 'p' 'p' 'e' 'e' 'e' 'p' 'e'\n",
      " 'p' 'p' 'p' 'e' 'e' 'p' 'e' 'e' 'e' 'e' 'e' 'e' 'p' 'p' 'p' 'e' 'e' 'e'\n",
      " 'e' 'p' 'e' 'e' 'p' 'p' 'e' 'p' 'p' 'e' 'e' 'e' 'p' 'e' 'e' 'p' 'p' 'e'\n",
      " 'e' 'p' 'e' 'p' 'e' 'p' 'e' 'e' 'e' 'e' 'e' 'p' 'p' 'e' 'e' 'e' 'e' 'e'\n",
      " 'p' 'e' 'e' 'p' 'e' 'p' 'e' 'e' 'e' 'e' 'e' 'p' 'e' 'p' 'e' 'e' 'p' 'e'\n",
      " 'p' 'p' 'p' 'e' 'p' 'e' 'e' 'e' 'e' 'e' 'p' 'e' 'e' 'p' 'p' 'p' 'e' 'p'\n",
      " 'p' 'e' 'e' 'p' 'p' 'e' 'p' 'e' 'e' 'p' 'e' 'p' 'p' 'p' 'e' 'p' 'e' 'p'\n",
      " 'p' 'p' 'p' 'p' 'p' 'p' 'e' 'e' 'p' 'p' 'e' 'p' 'p' 'p' 'e' 'p' 'e' 'e'\n",
      " 'e' 'p' 'e' 'p' 'p' 'e' 'e' 'p' 'e' 'e' 'e' 'e' 'e' 'p' 'e' 'e' 'p' 'e'\n",
      " 'e' 'p' 'p' 'p' 'e' 'e' 'p' 'p' 'p' 'p' 'e' 'e' 'e' 'e' 'p' 'p' 'e' 'p'\n",
      " 'p' 'e' 'e' 'e' 'p' 'p' 'p' 'e' 'p' 'p' 'p' 'p' 'p' 'p' 'e' 'p' 'p' 'e'\n",
      " 'p' 'e' 'p' 'p' 'e' 'e' 'e' 'e' 'p' 'p' 'p' 'e' 'e' 'p' 'p' 'e' 'e' 'e'\n",
      " 'p' 'p' 'e' 'p' 'e' 'p' 'e' 'p' 'e' 'e' 'p' 'e' 'p' 'p' 'e' 'p' 'p' 'p'\n",
      " 'e' 'p' 'e' 'p' 'e' 'p' 'p' 'e' 'e' 'e' 'p' 'p' 'p' 'p' 'p' 'p' 'p' 'p'\n",
      " 'p' 'p' 'p' 'e' 'e' 'e' 'p' 'e' 'e' 'e' 'p' 'p' 'p' 'p' 'p' 'p' 'e' 'e'\n",
      " 'p' 'e' 'p' 'e' 'e' 'p' 'p' 'e' 'e' 'e' 'e' 'p' 'p' 'e' 'e' 'p' 'p' 'p'\n",
      " 'e' 'e' 'e' 'e' 'e' 'e' 'e' 'e' 'p' 'e' 'e' 'e' 'p' 'p' 'e' 'p' 'p' 'p'\n",
      " 'p' 'e' 'e' 'p' 'e' 'e' 'e' 'e' 'p' 'e' 'e' 'p' 'e' 'p' 'e' 'e' 'p' 'e'\n",
      " 'e' 'p' 'e' 'p' 'p' 'e' 'e' 'e' 'p' 'p' 'e' 'e' 'p' 'p' 'p' 'p' 'e' 'e'\n",
      " 'p' 'p' 'e' 'p' 'e' 'e' 'e' 'e' 'p' 'p' 'p' 'p' 'p' 'e' 'p' 'e' 'p' 'p'\n",
      " 'p' 'e' 'e' 'e' 'p' 'p' 'p' 'e' 'p' 'e' 'e' 'e' 'e' 'e' 'e' 'e' 'e' 'p'\n",
      " 'e' 'p' 'p' 'p' 'p' 'e' 'p' 'e' 'p' 'e' 'p' 'e' 'p' 'e' 'e' 'e' 'e' 'e'\n",
      " 'e' 'p' 'e' 'p' 'e' 'e' 'e' 'e' 'p' 'e' 'e' 'p' 'p' 'p' 'p' 'p' 'p' 'e'\n",
      " 'p' 'p' 'e' 'e' 'p' 'e' 'p' 'e' 'p' 'p' 'p' 'e' 'e' 'p' 'e' 'e' 'e' 'p'\n",
      " 'e' 'p' 'e' 'p' 'p' 'e' 'p' 'p' 'e' 'e' 'e' 'e' 'e' 'e' 'e' 'p' 'e' 'p'\n",
      " 'e' 'p' 'p' 'p' 'e' 'e' 'e' 'e' 'e' 'p' 'p' 'p' 'e' 'p' 'e' 'e' 'e' 'e'\n",
      " 'p' 'p' 'p' 'e' 'e' 'e' 'e' 'e' 'e' 'p' 'e' 'e' 'e' 'e' 'p' 'p' 'e' 'e'\n",
      " 'p' 'e' 'p' 'e' 'e' 'e' 'p' 'e' 'e' 'p' 'e' 'e' 'p' 'e' 'e' 'e' 'p' 'e'\n",
      " 'e' 'p' 'p' 'e' 'e' 'p' 'p' 'p' 'e' 'p' 'e' 'e' 'p' 'p' 'e' 'p' 'e' 'e'\n",
      " 'p' 'p' 'e' 'e' 'p' 'e' 'p' 'p' 'e' 'p' 'e' 'p' 'e' 'e' 'e' 'e' 'p' 'e'\n",
      " 'p' 'e' 'p' 'e' 'e' 'e' 'p' 'e' 'e' 'e' 'p' 'p' 'e' 'e' 'e' 'e' 'p' 'p'\n",
      " 'e' 'p' 'p' 'e' 'e' 'e' 'p' 'e' 'e' 'p' 'e' 'p' 'e' 'e' 'p' 'p' 'p' 'e'\n",
      " 'e' 'p' 'e' 'e' 'e' 'p' 'e' 'e' 'p' 'p' 'e' 'p' 'p' 'p' 'e' 'p' 'p' 'e'\n",
      " 'e' 'e' 'e' 'e' 'e' 'p' 'p' 'e' 'e' 'e' 'p' 'e' 'p' 'e' 'e' 'p' 'e' 'p'\n",
      " 'p' 'p' 'p' 'p' 'p' 'e' 'p' 'p' 'p' 'e' 'e' 'e' 'e' 'p' 'e' 'p' 'e' 'e'\n",
      " 'e' 'p' 'e' 'e' 'e' 'p' 'p' 'p' 'p' 'p' 'e' 'e' 'e' 'p' 'p' 'e' 'e' 'e'\n",
      " 'e' 'e' 'p' 'p' 'e' 'e' 'e' 'p' 'p' 'e' 'p' 'e' 'p' 'e' 'p' 'p' 'p' 'p'\n",
      " 'e' 'e' 'p' 'p' 'e' 'e' 'e' 'e' 'e' 'e' 'p' 'p' 'e' 'e' 'e' 'p' 'p' 'p'\n",
      " 'p' 'e' 'p' 'e' 'p' 'p' 'e' 'p' 'e' 'p' 'p' 'e' 'e' 'e' 'p' 'p' 'p' 'p'\n",
      " 'p' 'e' 'e' 'e' 'e' 'e' 'p' 'p' 'e' 'e' 'e' 'p' 'p' 'p' 'p' 'e' 'p' 'p'\n",
      " 'e' 'p' 'p' 'e' 'p' 'e' 'e' 'p' 'e' 'p' 'p' 'e' 'p' 'p' 'p' 'e' 'p' 'e'\n",
      " 'p' 'p' 'e' 'p' 'e' 'p' 'e' 'e' 'p' 'p' 'p' 'p' 'p' 'p' 'p' 'e' 'e' 'e'\n",
      " 'e' 'e' 'e' 'e' 'e' 'e' 'e' 'p' 'e' 'e' 'p' 'e' 'p' 'e' 'e' 'p' 'p' 'p'\n",
      " 'p' 'p' 'p' 'p' 'p' 'p' 'e' 'e' 'e' 'e' 'p' 'e' 'p' 'e' 'e' 'p' 'e' 'p'\n",
      " 'p' 'e' 'e' 'p' 'e' 'p' 'p' 'e' 'e' 'e' 'p' 'e' 'e' 'e' 'p' 'e' 'e' 'p'\n",
      " 'p' 'e' 'p' 'e' 'p' 'e' 'p' 'p' 'e' 'e' 'p' 'e' 'p' 'p' 'e' 'p' 'p' 'e'\n",
      " 'e' 'e' 'p' 'p' 'e' 'e' 'e' 'e' 'e' 'e' 'p' 'p' 'p' 'e' 'e' 'e' 'e' 'p'\n",
      " 'p' 'e' 'e' 'e' 'e' 'p' 'p' 'p' 'e' 'p' 'p' 'e' 'p' 'e' 'p' 'e' 'p' 'p'\n",
      " 'p' 'p' 'e' 'e' 'p' 'e' 'p' 'e' 'p' 'p' 'p' 'e' 'e' 'e' 'e' 'p' 'e' 'e'\n",
      " 'p' 'p' 'p' 'e' 'e' 'e' 'p' 'p' 'p' 'p' 'e' 'e' 'p' 'e' 'p' 'e' 'e' 'e'\n",
      " 'e' 'e' 'p' 'p' 'p' 'e' 'e' 'e' 'p' 'p' 'p' 'p' 'e' 'p' 'p' 'p' 'e' 'p'\n",
      " 'e' 'p' 'e' 'e' 'e' 'p' 'p' 'e' 'p' 'e' 'e' 'p' 'p' 'p' 'p' 'e' 'e' 'p'\n",
      " 'e' 'e' 'p' 'e' 'p' 'e' 'e' 'e' 'p' 'e' 'e' 'e' 'p' 'p' 'e' 'p' 'p' 'p'\n",
      " 'p' 'p' 'e' 'p' 'p' 'p' 'p' 'e' 'e' 'p' 'e' 'e' 'e' 'e' 'p' 'p' 'e' 'e'\n",
      " 'e' 'p' 'p' 'e' 'e' 'e' 'p' 'p' 'p' 'p' 'p' 'p' 'e' 'e' 'p' 'p' 'p' 'e'\n",
      " 'e' 'p' 'p' 'p' 'e' 'p' 'p' 'e' 'e' 'e' 'e' 'p' 'p' 'p' 'p' 'e' 'e' 'p'\n",
      " 'e' 'e' 'p' 'e' 'e' 'p' 'e' 'p' 'p' 'p' 'e' 'e' 'e' 'e' 'p' 'p' 'p' 'e'\n",
      " 'e' 'e' 'p' 'e' 'e' 'e' 'p' 'p' 'p' 'e' 'e' 'e' 'p' 'e' 'e' 'e' 'e' 'p'\n",
      " 'p' 'p' 'e' 'e' 'e' 'e' 'p' 'e' 'p' 'e' 'p' 'p' 'e' 'e' 'p' 'e' 'p' 'e'\n",
      " 'e' 'p' 'p' 'e' 'p' 'p' 'p' 'p' 'p' 'p' 'e' 'e' 'e' 'p' 'p' 'e' 'p' 'p'\n",
      " 'e' 'e' 'p' 'p' 'e' 'p' 'p' 'p' 'e' 'p' 'e' 'e' 'p' 'e' 'e' 'e' 'e' 'p'\n",
      " 'e' 'p' 'e' 'p' 'p' 'e' 'e' 'e' 'p' 'e' 'p' 'e' 'e' 'p' 'p' 'e' 'p' 'e'\n",
      " 'e' 'e' 'p' 'e' 'e' 'e' 'p' 'p' 'e' 'p' 'p' 'p' 'p' 'e' 'e' 'e' 'e' 'p'\n",
      " 'p' 'e' 'p' 'e' 'p' 'e' 'e' 'e' 'e' 'e' 'p' 'p' 'e' 'p' 'e' 'e' 'e' 'e'\n",
      " 'e' 'p' 'p' 'e' 'e' 'e' 'e' 'p' 'e' 'p' 'e' 'e' 'p' 'e' 'p' 'p' 'p' 'e'\n",
      " 'p' 'e' 'p' 'e' 'e' 'e' 'p' 'p' 'e' 'p' 'p' 'e' 'p' 'p' 'p' 'e' 'p' 'p'\n",
      " 'p' 'e' 'p' 'p' 'p' 'p' 'e' 'e' 'e' 'e' 'p' 'p' 'p' 'p' 'p' 'p' 'p' 'e'\n",
      " 'p' 'p' 'e' 'e' 'e' 'e' 'p' 'e' 'p' 'p' 'p' 'e' 'e' 'p' 'e' 'p' 'p' 'e'\n",
      " 'p' 'e' 'p' 'e' 'e' 'e' 'p' 'e' 'e' 'e' 'p' 'e' 'p' 'e' 'e' 'p' 'e' 'e'\n",
      " 'e' 'e' 'p' 'e' 'p' 'p' 'e' 'e' 'p' 'e' 'e' 'e' 'e' 'p' 'e' 'p' 'p' 'p'\n",
      " 'p' 'p' 'p' 'e' 'p' 'e' 'p' 'p' 'e' 'p' 'p' 'e' 'p' 'e' 'p' 'e' 'e' 'p'\n",
      " 'e' 'p' 'p' 'p' 'e' 'p' 'e' 'p' 'p' 'p' 'e' 'e' 'p' 'p' 'e' 'e' 'e' 'p'\n",
      " 'p' 'e' 'p' 'e' 'e' 'e' 'e' 'e' 'e' 'e' 'p' 'p' 'e' 'p' 'p' 'e' 'p' 'p'\n",
      " 'p' 'p' 'p' 'e' 'p' 'e' 'e' 'p' 'p' 'e' 'e' 'p' 'p' 'e' 'e' 'e' 'e' 'e'\n",
      " 'p' 'p' 'p' 'p' 'p' 'e' 'p' 'e' 'e' 'e' 'e' 'e' 'p' 'e' 'e' 'e' 'p' 'e'\n",
      " 'e' 'e' 'e' 'e' 'p' 'p' 'p' 'e' 'p' 'e' 'e' 'e' 'p' 'p' 'p' 'p' 'p' 'e'\n",
      " 'e' 'e' 'e' 'e' 'e' 'e' 'e' 'e' 'e' 'p' 'p' 'p' 'e' 'p' 'p' 'e' 'e' 'p'\n",
      " 'p' 'e' 'e' 'p' 'p' 'e' 'p' 'e' 'e' 'p' 'p' 'p' 'e' 'p' 'e' 'p' 'e' 'p'\n",
      " 'p' 'p' 'p' 'p' 'e' 'p' 'e' 'p' 'p' 'p' 'e' 'e' 'e' 'p' 'p' 'p' 'p' 'p'\n",
      " 'p' 'e' 'p' 'p' 'p']\n"
     ]
    }
   ],
   "source": [
    "print('Predicted classes:', prediction)"
   ]
  },
  {
   "cell_type": "code",
   "execution_count": 33,
   "id": "6694059a",
   "metadata": {},
   "outputs": [
    {
     "name": "stdout",
     "output_type": "stream",
     "text": [
      "[[843   0]\n",
      " [  0 782]]\n"
     ]
    }
   ],
   "source": [
    "print(confusion_matrix(y_test, prediction)) #confusion matrix"
   ]
  },
  {
   "cell_type": "code",
   "execution_count": 34,
   "id": "8a763df2",
   "metadata": {},
   "outputs": [
    {
     "name": "stdout",
     "output_type": "stream",
     "text": [
      "Accuracy score: 1.0\n"
     ]
    }
   ],
   "source": [
    "print('Accuracy score:', accuracy_score(y_test, prediction))"
   ]
  },
  {
   "cell_type": "markdown",
   "id": "ae32e71a",
   "metadata": {},
   "source": [
    "AdaBoost Classifier accuartely predicts the class with zero misclassifications."
   ]
  }
 ],
 "metadata": {
  "kernelspec": {
   "display_name": "Python 3",
   "language": "python",
   "name": "python3"
  },
  "language_info": {
   "codemirror_mode": {
    "name": "ipython",
    "version": 3
   },
   "file_extension": ".py",
   "mimetype": "text/x-python",
   "name": "python",
   "nbconvert_exporter": "python",
   "pygments_lexer": "ipython3",
   "version": "3.8.8"
  }
 },
 "nbformat": 4,
 "nbformat_minor": 5
}
