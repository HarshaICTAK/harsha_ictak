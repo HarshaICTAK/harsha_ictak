{
 "cells": [
  {
   "cell_type": "markdown",
   "metadata": {
    "id": "4z_Z-K1tlrS7"
   },
   "source": [
    "## 1. Complete the following code to find the area of an equilateral triangle. Output should be as displayed"
   ]
  },
  {
   "cell_type": "code",
   "execution_count": 4,
   "metadata": {
    "id": "rP2qFD_SlrS_"
   },
   "outputs": [
    {
     "name": "stdout",
     "output_type": "stream",
     "text": [
      "Enter the side of the equilateral triangle: 3\n",
      "3.9 is the area of equilateral triangle with side  3.0\n"
     ]
    }
   ],
   "source": [
    "import math\n",
    "side = float(input(\"Enter the side of the equilateral triangle: \"))\n",
    "area = ((math.sqrt(3))/4)*pow(side,2)\n",
    "print(round(area,2), 'is the area of equilateral triangle with side ', side)"
   ]
  },
  {
   "cell_type": "markdown",
   "metadata": {
    "id": "TjVKjIfclrTB"
   },
   "source": [
    "## 2. Write a program to count the number of each characters in a string"
   ]
  },
  {
   "cell_type": "code",
   "execution_count": 24,
   "metadata": {
    "id": "JY5seVUQlrTC"
   },
   "outputs": [
    {
     "name": "stdout",
     "output_type": "stream",
     "text": [
      "Enter string: tomorrow\n",
      "{'t': 1, 'o': 3, 'm': 1, 'r': 2, 'w': 1}\n"
     ]
    }
   ],
   "source": [
    "string = input('Enter string: ')\n",
    "freq_ch = {}\n",
    "for char in string:\n",
    "    if char in freq_ch:\n",
    "        freq_ch[char] += 1\n",
    "    else:\n",
    "        freq_ch[char] = 1\n",
    "print(freq_ch)    "
   ]
  },
  {
   "cell_type": "markdown",
   "metadata": {
    "id": "l3LCULfklrTD"
   },
   "source": [
    "## Write a program to find the area and perimeter of a rectangle using functions"
   ]
  },
  {
   "cell_type": "code",
   "execution_count": 15,
   "metadata": {
    "id": "8haQD8edlrTD"
   },
   "outputs": [],
   "source": [
    "def rect_peri(l,b):  \n",
    "    peri = 2*(l+b)\n",
    "    print(peri, 'is the perimeter of the rectangle.')\n",
    "\n",
    "def rect_area(l,b):\n",
    "    area=l*b\n",
    "    print(area, 'is the area of the rectangle.')"
   ]
  },
  {
   "cell_type": "code",
   "execution_count": 17,
   "metadata": {},
   "outputs": [
    {
     "name": "stdout",
     "output_type": "stream",
     "text": [
      "14 is the perimeter of the rectangle\n",
      "12 is the area of the rectangle\n"
     ]
    }
   ],
   "source": [
    "rect_peri(4,3)\n",
    "rect_area(4,3)"
   ]
  },
  {
   "cell_type": "markdown",
   "metadata": {
    "id": "JHK4ZdsflrTE"
   },
   "source": [
    "## 4. Write a program to print the fibonacci series till a specified number"
   ]
  },
  {
   "cell_type": "code",
   "execution_count": 1,
   "metadata": {
    "id": "LyBEj-4SlrTE"
   },
   "outputs": [
    {
     "name": "stdout",
     "output_type": "stream",
     "text": [
      "Enter number: 10\n",
      "0\n",
      "1\n",
      "1\n",
      "2\n",
      "3\n",
      "5\n",
      "8\n",
      "13\n",
      "21\n",
      "34\n"
     ]
    }
   ],
   "source": [
    "def fibonacci(n):\n",
    "    a=0\n",
    "    b=1\n",
    "    if n==1:\n",
    "        print(a)\n",
    "    else:\n",
    "        print(a)\n",
    "        print(b)\n",
    "        for i in range(0,n-2):\n",
    "            c = a + b\n",
    "            a = b\n",
    "            b = c\n",
    "            print(c)  \n",
    "n = int(input('Enter number: '))\n",
    "fibonacci(n)"
   ]
  },
  {
   "cell_type": "markdown",
   "metadata": {
    "id": "u4uBUcQKlrTE"
   },
   "source": [
    "## 5. Complete the following code to find the minimum of 3 number using cinditional statements. Output should be as displayed"
   ]
  },
  {
   "cell_type": "code",
   "execution_count": 23,
   "metadata": {
    "id": "XdZwrZjIlrTF"
   },
   "outputs": [
    {
     "name": "stdout",
     "output_type": "stream",
     "text": [
      "Enter three numbers followed by  : 3 5 1\n",
      "First number :  3\n",
      "Second number :  5\n",
      "Third number :  1\n",
      "1  is smallest\n"
     ]
    }
   ],
   "source": [
    "a,b,c = input(\"Enter three numbers followed by  : \").split()\n",
    "print(\"First number : \",a)\n",
    "print(\"Second number : \",b)\n",
    "print(\"Third number : \",c)\n",
    "if a==b==c:\n",
    "    print(\"Entered numbers are equal!!!\")\n",
    "elif (a<b) and (a<c):\n",
    "    print(a,\" is smallest\")\n",
    "elif (b<c) and (b<a):\n",
    "    print(b,\" is smallest\")\n",
    "else:\n",
    "    print(c,\" is smallest\")"
   ]
  },
  {
   "cell_type": "markdown",
   "metadata": {
    "id": "aR_CnToWlrTG"
   },
   "source": [
    "## 6. Write a program to print star pyramind. The number of rows should be taken as input from the user"
   ]
  },
  {
   "cell_type": "code",
   "execution_count": 1,
   "metadata": {
    "id": "M37A-buplrTG",
    "scrolled": true
   },
   "outputs": [
    {
     "name": "stdout",
     "output_type": "stream",
     "text": [
      "Enter no of rows: 7\n",
      "      * \n",
      "     * * \n",
      "    * * * \n",
      "   * * * * \n",
      "  * * * * * \n",
      " * * * * * * \n",
      "* * * * * * * \n"
     ]
    }
   ],
   "source": [
    "def tri_pat(n):\n",
    "    s = n-1 #number of spaces \n",
    "    for i in range(0,n): #number of rows loop\n",
    "        for j in range(0,s): #number of spaces loop\n",
    "            print(end=\" \")\n",
    "        s -= 1\n",
    "        \n",
    "        for j in range(0,i+1):\n",
    "            print('*', end=\" \")\n",
    "        print('\\r')\n",
    "n = int(input('Enter no of rows: '))\n",
    "tri_pat(n)"
   ]
  },
  {
   "cell_type": "markdown",
   "metadata": {
    "id": "tlY6aFWBlrTH"
   },
   "source": [
    "## 7. Complete the following code to convert hour into seconds. Output should be as displayed"
   ]
  },
  {
   "cell_type": "code",
   "execution_count": 22,
   "metadata": {
    "id": "YOZQFk7FlrTH"
   },
   "outputs": [
    {
     "name": "stdout",
     "output_type": "stream",
     "text": [
      "Enter time in hours: 2\n",
      "2  Hour is equal to 7200  Seconds\n"
     ]
    }
   ],
   "source": [
    "def to_seconds(time_in_hours):\n",
    "    t = time_in_hours*60*60\n",
    "    return t\n",
    "time_in_hours = int(input('Enter time in hours: '))\n",
    "print(time_in_hours ,\" Hour is equal to\" ,to_seconds(time_in_hours) ,\" Seconds\")"
   ]
  },
  {
   "cell_type": "markdown",
   "metadata": {
    "id": "CnYorNiLlrTI"
   },
   "source": [
    "## 8. Write a program to print multiplication table as below"
   ]
  },
  {
   "cell_type": "code",
   "execution_count": 25,
   "metadata": {
    "id": "dPQqDPuDlrTI"
   },
   "outputs": [
    {
     "name": "stdout",
     "output_type": "stream",
     "text": [
      "Enter the number: 5\n",
      "5 * 1 = 5\n",
      "5 * 2 = 10\n",
      "5 * 3 = 15\n",
      "5 * 4 = 20\n",
      "5 * 5 = 25\n",
      "5 * 6 = 30\n",
      "5 * 7 = 35\n",
      "5 * 8 = 40\n",
      "5 * 9 = 45\n",
      "5 * 10 = 50\n"
     ]
    }
   ],
   "source": [
    "n = int(input('Enter the number: '))\n",
    "for x in range(1,11):\n",
    "    prod = n*x\n",
    "    print(n,'*',x, '=', prod)"
   ]
  },
  {
   "cell_type": "markdown",
   "metadata": {
    "id": "Fiaez8iblrTI"
   },
   "source": [
    "## 9. Write a program to take your 5 favorite food as list and print each as 'I like Biriyani'"
   ]
  },
  {
   "cell_type": "code",
   "execution_count": 27,
   "metadata": {
    "id": "39W1zFX7lrTJ"
   },
   "outputs": [
    {
     "name": "stdout",
     "output_type": "stream",
     "text": [
      "Enter top 5 favourite foods: fruits curry juice salad Biriyani\n",
      "I like fruits\n",
      "I like curry\n",
      "I like juice\n",
      "I like salad\n",
      "I like Biriyani\n"
     ]
    }
   ],
   "source": [
    "fav1, fav2, fav3, fav4, fav5 = input('Enter top 5 favourite foods: '). split()\n",
    "\n",
    "print('I like', fav1)\n",
    "print('I like', fav2)\n",
    "print('I like', fav3)\n",
    "print('I like', fav4)\n",
    "print('I like', fav5)"
   ]
  },
  {
   "cell_type": "markdown",
   "metadata": {
    "id": "3vlcDNNEP7d_"
   },
   "source": [
    "## 10. Find error(s) in the following code(if any) and rewrite code.\n",
    "\n"
   ]
  },
  {
   "cell_type": "code",
   "execution_count": 1,
   "metadata": {
    "id": "coREkcY3P9sG"
   },
   "outputs": [
    {
     "name": "stdout",
     "output_type": "stream",
     "text": [
      "Enter value of x: 5\n",
      "5 and 0 are unequal\n",
      "5 and 1 are unequal\n",
      "5 and 2 are unequal\n",
      "5 and 3 are unequal\n",
      "5 and 4 are unequal\n",
      "5 and 5 are equal\n",
      "5 and 6 are unequal\n",
      "5 and 7 are unequal\n",
      "5 and 8 are unequal\n",
      "5 and 9 are unequal\n"
     ]
    }
   ],
   "source": [
    "x= int(input(\"Enter value of x: \"))\n",
    "for y in range(0,10):\n",
    "     if x==y:\n",
    "        print(x, \"and\", y, \"are equal\")\n",
    "     else:\n",
    "        print( x, \"and\", y, \"are unequal\")\n",
    "        "
   ]
  }
 ],
 "metadata": {
  "colab": {
   "collapsed_sections": [],
   "name": "Q&A activity student file.ipynb",
   "provenance": []
  },
  "kernelspec": {
   "display_name": "Python 3",
   "language": "python",
   "name": "python3"
  },
  "language_info": {
   "codemirror_mode": {
    "name": "ipython",
    "version": 3
   },
   "file_extension": ".py",
   "mimetype": "text/x-python",
   "name": "python",
   "nbconvert_exporter": "python",
   "pygments_lexer": "ipython3",
   "version": "3.8.8"
  }
 },
 "nbformat": 4,
 "nbformat_minor": 1
}
