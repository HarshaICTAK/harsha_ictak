{
 "cells": [
  {
   "cell_type": "code",
   "execution_count": 1,
   "id": "3a02039c",
   "metadata": {},
   "outputs": [],
   "source": [
    "def aml_quiz(attempt, answer):\n",
    "    global score\n",
    "    attempt_on = True\n",
    "    chance = 0\n",
    "    while attempt_on and chance < 3:\n",
    "        if attempt.lower() == answer.lower():\n",
    "            print('Correct Answer! ')\n",
    "            score += 1\n",
    "            attempt_on = False\n",
    "        else: \n",
    "            if chance < 2:\n",
    "                attempt = input('Sorry, wrong answer. Try again: ')\n",
    "            chance += 1\n",
    "    if chance == 3:\n",
    "        print('Correct answer is,', answer)"
   ]
  },
  {
   "cell_type": "code",
   "execution_count": 2,
   "id": "70b01d59",
   "metadata": {},
   "outputs": [
    {
     "name": "stdout",
     "output_type": "stream",
     "text": [
      "Guess the animal!\n",
      "How many legs does a spider have? six\n",
      "Sorry, wrong answer. Try again: eight\n",
      "Correct Answer! \n",
      "Which animal has 3 hearts? bear\n",
      "Sorry, wrong answer. Try again: tiger\n",
      "Sorry, wrong answer. Try again: lion\n",
      "Correct answer is, Octopus\n",
      "How many days can a camel go without water? thirty\n",
      "Correct Answer! \n",
      "Your final score is:  2\n"
     ]
    }
   ],
   "source": [
    "score = 0\n",
    "print('Guess the animal!')\n",
    "attempt01 = input('How many legs does a spider have? ')\n",
    "aml_quiz(attempt01, 'Eight')\n",
    "attempt02 = input('Which animal has 3 hearts? ')\n",
    "aml_quiz(attempt02, 'Octopus')\n",
    "attempt03 = input('How many days can a camel go without water? ')\n",
    "aml_quiz(attempt03, 'Thirty')\n",
    "print('Your final score is: ', score)"
   ]
  }
 ],
 "metadata": {
  "kernelspec": {
   "display_name": "Python 3",
   "language": "python",
   "name": "python3"
  },
  "language_info": {
   "codemirror_mode": {
    "name": "ipython",
    "version": 3
   },
   "file_extension": ".py",
   "mimetype": "text/x-python",
   "name": "python",
   "nbconvert_exporter": "python",
   "pygments_lexer": "ipython3",
   "version": "3.8.8"
  }
 },
 "nbformat": 4,
 "nbformat_minor": 5
}
