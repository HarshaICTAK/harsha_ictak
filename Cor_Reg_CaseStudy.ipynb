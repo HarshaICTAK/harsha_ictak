{
 "cells": [
  {
   "cell_type": "code",
   "execution_count": 1,
   "id": "b924bbc7",
   "metadata": {},
   "outputs": [],
   "source": [
    "import numpy as np\n",
    "import pandas as pd\n",
    "import matplotlib.pyplot as plt\n",
    "import seaborn as sns\n",
    "\n",
    "from sklearn.model_selection import train_test_split\n",
    "from sklearn import linear_model\n",
    "from sklearn.metrics import mean_squared_error"
   ]
  },
  {
   "cell_type": "code",
   "execution_count": 2,
   "id": "69bdc6d0",
   "metadata": {},
   "outputs": [],
   "source": [
    "data=pd.read_csv('add_sales_data_2018.csv')"
   ]
  },
  {
   "cell_type": "code",
   "execution_count": 3,
   "id": "b8c40e80",
   "metadata": {},
   "outputs": [
    {
     "data": {
      "text/html": [
       "<div>\n",
       "<style scoped>\n",
       "    .dataframe tbody tr th:only-of-type {\n",
       "        vertical-align: middle;\n",
       "    }\n",
       "\n",
       "    .dataframe tbody tr th {\n",
       "        vertical-align: top;\n",
       "    }\n",
       "\n",
       "    .dataframe thead th {\n",
       "        text-align: right;\n",
       "    }\n",
       "</style>\n",
       "<table border=\"1\" class=\"dataframe\">\n",
       "  <thead>\n",
       "    <tr style=\"text-align: right;\">\n",
       "      <th></th>\n",
       "      <th>Date</th>\n",
       "      <th>Add1(in Thousands)</th>\n",
       "      <th>Add2(in Thousands)</th>\n",
       "      <th>Add3(in Thousands)</th>\n",
       "      <th>Add4(in Thousands)</th>\n",
       "      <th>Add5(in Thousands)</th>\n",
       "      <th>Profit(in Thousands)</th>\n",
       "    </tr>\n",
       "  </thead>\n",
       "  <tbody>\n",
       "    <tr>\n",
       "      <th>0</th>\n",
       "      <td>2018-10-08</td>\n",
       "      <td>208.00</td>\n",
       "      <td>222.25</td>\n",
       "      <td>206.85</td>\n",
       "      <td>216.00</td>\n",
       "      <td>215.15</td>\n",
       "      <td>4093.065</td>\n",
       "    </tr>\n",
       "    <tr>\n",
       "      <th>1</th>\n",
       "      <td>2018-10-05</td>\n",
       "      <td>217.00</td>\n",
       "      <td>218.60</td>\n",
       "      <td>205.90</td>\n",
       "      <td>210.25</td>\n",
       "      <td>209.20</td>\n",
       "      <td>4042.448</td>\n",
       "    </tr>\n",
       "    <tr>\n",
       "      <th>2</th>\n",
       "      <td>2018-10-04</td>\n",
       "      <td>223.50</td>\n",
       "      <td>227.80</td>\n",
       "      <td>216.15</td>\n",
       "      <td>217.25</td>\n",
       "      <td>218.20</td>\n",
       "      <td>4213.819</td>\n",
       "    </tr>\n",
       "    <tr>\n",
       "      <th>3</th>\n",
       "      <td>2018-10-03</td>\n",
       "      <td>230.00</td>\n",
       "      <td>237.50</td>\n",
       "      <td>225.75</td>\n",
       "      <td>226.45</td>\n",
       "      <td>227.60</td>\n",
       "      <td>4391.665</td>\n",
       "    </tr>\n",
       "    <tr>\n",
       "      <th>4</th>\n",
       "      <td>2018-10-01</td>\n",
       "      <td>234.55</td>\n",
       "      <td>234.60</td>\n",
       "      <td>221.05</td>\n",
       "      <td>230.30</td>\n",
       "      <td>230.90</td>\n",
       "      <td>4350.683</td>\n",
       "    </tr>\n",
       "  </tbody>\n",
       "</table>\n",
       "</div>"
      ],
      "text/plain": [
       "         Date  Add1(in Thousands)  Add2(in Thousands)  Add3(in Thousands)  \\\n",
       "0  2018-10-08              208.00              222.25              206.85   \n",
       "1  2018-10-05              217.00              218.60              205.90   \n",
       "2  2018-10-04              223.50              227.80              216.15   \n",
       "3  2018-10-03              230.00              237.50              225.75   \n",
       "4  2018-10-01              234.55              234.60              221.05   \n",
       "\n",
       "   Add4(in Thousands)  Add5(in Thousands)  Profit(in Thousands)  \n",
       "0              216.00              215.15              4093.065  \n",
       "1              210.25              209.20              4042.448  \n",
       "2              217.25              218.20              4213.819  \n",
       "3              226.45              227.60              4391.665  \n",
       "4              230.30              230.90              4350.683  "
      ]
     },
     "execution_count": 3,
     "metadata": {},
     "output_type": "execute_result"
    }
   ],
   "source": [
    "data.head()"
   ]
  },
  {
   "cell_type": "code",
   "execution_count": 4,
   "id": "b9fbf8f0",
   "metadata": {},
   "outputs": [
    {
     "name": "stdout",
     "output_type": "stream",
     "text": [
      "<class 'pandas.core.frame.DataFrame'>\n",
      "RangeIndex: 205 entries, 0 to 204\n",
      "Data columns (total 7 columns):\n",
      " #   Column                Non-Null Count  Dtype  \n",
      "---  ------                --------------  -----  \n",
      " 0   Date                  205 non-null    object \n",
      " 1   Add1(in Thousands)    205 non-null    float64\n",
      " 2   Add2(in Thousands)    205 non-null    float64\n",
      " 3   Add3(in Thousands)    205 non-null    float64\n",
      " 4   Add4(in Thousands)    205 non-null    float64\n",
      " 5   Add5(in Thousands)    205 non-null    float64\n",
      " 6   Profit(in Thousands)  205 non-null    float64\n",
      "dtypes: float64(6), object(1)\n",
      "memory usage: 11.3+ KB\n"
     ]
    }
   ],
   "source": [
    "data.info()"
   ]
  },
  {
   "cell_type": "code",
   "execution_count": 5,
   "id": "9c3f61a9",
   "metadata": {},
   "outputs": [
    {
     "data": {
      "text/plain": [
       "(205, 7)"
      ]
     },
     "execution_count": 5,
     "metadata": {},
     "output_type": "execute_result"
    }
   ],
   "source": [
    "data.shape"
   ]
  },
  {
   "cell_type": "markdown",
   "id": "f6990b33",
   "metadata": {},
   "source": [
    "# 1. Relationship between amount spent for advertising and profit generated"
   ]
  },
  {
   "cell_type": "code",
   "execution_count": null,
   "id": "d0432a2e",
   "metadata": {},
   "outputs": [],
   "source": [
    "# We can check the correlation between the variables using a heatmap."
   ]
  },
  {
   "cell_type": "code",
   "execution_count": 6,
   "id": "24f02bcb",
   "metadata": {},
   "outputs": [
    {
     "data": {
      "text/plain": [
       "<AxesSubplot:>"
      ]
     },
     "execution_count": 6,
     "metadata": {},
     "output_type": "execute_result"
    },
    {
     "data": {
      "image/png": "[encoded data removed]",
      "text/plain": [
       "<Figure size 720x576 with 2 Axes>"
      ]
     },
     "metadata": {
      "needs_background": "light"
     },
     "output_type": "display_data"
    }
   ],
   "source": [
    "corr = data.corr()\n",
    "plt.figure(figsize=(10,8))\n",
    "sns.heatmap(corr, vmin=0.9, vmax=1, linewidth=0.8, cmap='Greens', annot=True)"
   ]
  },
  {
   "cell_type": "code",
   "execution_count": null,
   "id": "8887ad6b",
   "metadata": {},
   "outputs": [],
   "source": [
    "# All variables are highly correlated with each other and with profit."
   ]
  },
  {
   "cell_type": "markdown",
   "id": "0025a33c",
   "metadata": {},
   "source": [
    "# 2. Building regression model to predict profit"
   ]
  },
  {
   "cell_type": "code",
   "execution_count": 7,
   "id": "22b40858",
   "metadata": {},
   "outputs": [],
   "source": [
    "# First, assign the dependent variable and independent variable to y and x\n",
    "\n",
    "y = data['Profit(in Thousands)']\n",
    "x = data.drop(['Date','Profit(in Thousands)'], axis=1)"
   ]
  },
  {
   "cell_type": "code",
   "execution_count": 8,
   "id": "cd06e00d",
   "metadata": {},
   "outputs": [],
   "source": [
    "# Next, split the data into training and testing set respectively.\n",
    "x_train, x_test, y_train, y_test = train_test_split(x, y, random_state = 42, test_size = 0.25)"
   ]
  },
  {
   "cell_type": "code",
   "execution_count": 9,
   "id": "a8e9f8c1",
   "metadata": {},
   "outputs": [],
   "source": [
    "# Creating the linear model using LinearRegression()\n",
    "lm = linear_model.LinearRegression()"
   ]
  },
  {
   "cell_type": "code",
   "execution_count": 10,
   "id": "3953e61c",
   "metadata": {},
   "outputs": [],
   "source": [
    "model = lm.fit(x_train, y_train) #fitting the model using training sets of x and y"
   ]
  },
  {
   "cell_type": "code",
   "execution_count": 11,
   "id": "e551d71c",
   "metadata": {},
   "outputs": [
    {
     "data": {
      "text/plain": [
       "array([ 1.  , 12.38,  3.5 ,  1.  ,  0.9 ])"
      ]
     },
     "execution_count": 11,
     "metadata": {},
     "output_type": "execute_result"
    }
   ],
   "source": [
    "model.coef_ #coefficients of model features/independent variables"
   ]
  },
  {
   "cell_type": "code",
   "execution_count": 12,
   "id": "cd261bbd",
   "metadata": {},
   "outputs": [
    {
     "data": {
      "text/plain": [
       "0.0"
      ]
     },
     "execution_count": 12,
     "metadata": {},
     "output_type": "execute_result"
    }
   ],
   "source": [
    "model.intercept_ #intercept of model"
   ]
  },
  {
   "cell_type": "code",
   "execution_count": 13,
   "id": "95004947",
   "metadata": {},
   "outputs": [
    {
     "data": {
      "text/plain": [
       "1.0"
      ]
     },
     "execution_count": 13,
     "metadata": {},
     "output_type": "execute_result"
    }
   ],
   "source": [
    "model.score(x_train, y_train) #Return the coefficient of determination of the model."
   ]
  },
  {
   "cell_type": "code",
   "execution_count": 14,
   "id": "cfc358ba",
   "metadata": {},
   "outputs": [],
   "source": [
    "pred = model.predict(x_test) #applying model to predict test set"
   ]
  },
  {
   "cell_type": "code",
   "execution_count": 15,
   "id": "02273645",
   "metadata": {},
   "outputs": [
    {
     "data": {
      "text/plain": [
       "array([4152.066, 4446.441, 5131.898, 4907.56 , 5004.282, 4623.793,\n",
       "       5384.175, 5328.025, 5175.051, 5956.323, 5780.799, 4997.719,\n",
       "       5075.858, 5784.54 , 4936.12 , 5065.652, 4190.965, 5034.726,\n",
       "       5015.536, 5134.657, 5145.131, 5421.94 , 4569.293, 4598.292,\n",
       "       4436.321, 4175.677, 5616.791, 5667.25 , 4648.834, 5717.838,\n",
       "       5001.615, 5182.368, 5017.503, 5545.013, 5013.207, 5030.451,\n",
       "       5108.626, 4760.877, 4606.34 , 4925.861, 5250.788, 5038.222,\n",
       "       5491.792, 5019.997, 4647.356, 4486.38 , 4435.174, 5300.437,\n",
       "       5425.19 , 4482.183, 4193.095, 6062.457])"
      ]
     },
     "execution_count": 15,
     "metadata": {},
     "output_type": "execute_result"
    }
   ],
   "source": [
    "pred"
   ]
  },
  {
   "cell_type": "code",
   "execution_count": 16,
   "id": "b094b7bc",
   "metadata": {
    "scrolled": true
   },
   "outputs": [
    {
     "name": "stdout",
     "output_type": "stream",
     "text": [
      "MSE of the model is 8.11273293080854e-25\n"
     ]
    }
   ],
   "source": [
    "#Calculating mean squared error between testing set of y and predicted values\n",
    "\n",
    "print('MSE of the model is', mean_squared_error(y_test, pred)) "
   ]
  },
  {
   "cell_type": "markdown",
   "id": "24d9ded8",
   "metadata": {},
   "source": [
    "# 3. Predict profit generated for new amount spent for advertising"
   ]
  },
  {
   "cell_type": "code",
   "execution_count": 17,
   "id": "11850abf",
   "metadata": {},
   "outputs": [],
   "source": [
    "new_ad = [[290,312,309,298,320]]"
   ]
  },
  {
   "cell_type": "code",
   "execution_count": 18,
   "id": "9ef7032e",
   "metadata": {},
   "outputs": [],
   "source": [
    "new_pred = model.predict(new_ad)"
   ]
  },
  {
   "cell_type": "code",
   "execution_count": 19,
   "id": "1958cc3a",
   "metadata": {},
   "outputs": [
    {
     "data": {
      "text/plain": [
       "array([5820.06])"
      ]
     },
     "execution_count": 19,
     "metadata": {},
     "output_type": "execute_result"
    }
   ],
   "source": [
    "new_pred"
   ]
  },
  {
   "cell_type": "code",
   "execution_count": null,
   "id": "91f6f1cc",
   "metadata": {},
   "outputs": [],
   "source": [
    "# Hence, for given amounts spent for advertising, the profit generated is 5820 (in Thousands)."
   ]
  }
 ],
 "metadata": {
  "kernelspec": {
   "display_name": "Python 3",
   "language": "python",
   "name": "python3"
  },
  "language_info": {
   "codemirror_mode": {
    "name": "ipython",
    "version": 3
   },
   "file_extension": ".py",
   "mimetype": "text/x-python",
   "name": "python",
   "nbconvert_exporter": "python",
   "pygments_lexer": "ipython3",
   "version": "3.8.8"
  }
 },
 "nbformat": 4,
 "nbformat_minor": 5
}
