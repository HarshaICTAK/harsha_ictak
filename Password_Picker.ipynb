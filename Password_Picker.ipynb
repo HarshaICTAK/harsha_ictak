{
 "cells": [
  {
   "cell_type": "code",
   "execution_count": 3,
   "id": "52c63c7b",
   "metadata": {},
   "outputs": [
    {
     "name": "stdout",
     "output_type": "stream",
     "text": [
      "Password:  brightshoes56:\n"
     ]
    }
   ],
   "source": [
    "import random\n",
    "\n",
    "adj_lst = ['happy', 'bright', 'delicious', 'sad', 'lovely', 'green', 'gray', 'wonderful', 'cruel', 'rough', 'gentle', 'brave', 'stoic', 'adventurous', 'creative']\n",
    "noun_lst = ['house', 'book', 'chair', 'table', 'eating', 'shoes', 'UK', 'India', 'Nigeria', 'Ladakh', 'Asia', 'cat', 'hamster', 'monkeys', 'teacher']\n",
    "num_lst = random.randint(1,100)\n",
    "punc_lst = ['!', ',', '.', '/', ';', ':', '?', '-', '\"', '{}', '()', '...']\n",
    "\n",
    "adj = random.choice(adj_lst)\n",
    "noun=random.choice(noun_lst)\n",
    "num = str(num_lst)\n",
    "punc = random.choice(punc_lst)\n",
    "\n",
    "password = adj+noun+num+punc\n",
    "print('Password: ', password)"
   ]
  }
 ],
 "metadata": {
  "kernelspec": {
   "display_name": "Python 3",
   "language": "python",
   "name": "python3"
  },
  "language_info": {
   "codemirror_mode": {
    "name": "ipython",
    "version": 3
   },
   "file_extension": ".py",
   "mimetype": "text/x-python",
   "name": "python",
   "nbconvert_exporter": "python",
   "pygments_lexer": "ipython3",
   "version": "3.8.8"
  }
 },
 "nbformat": 4,
 "nbformat_minor": 5
}
